{
 "cells": [
  {
   "cell_type": "markdown",
   "id": "119e789e",
   "metadata": {},
   "source": [
    "#### Subscriber\n",
    "\n",
    "- sub_id  int(10)\n",
    "- first_name varchar(10)\n",
    "- last_name varchar(10)\n",
    "- street varchar(30)\n",
    "- birthdate date\n",
    "- gender varchar(6)\n",
    "- phone varchar(10)\n",
    "- country varchar(20)\n",
    "- city varchar(20)\n",
    "- zip_code integer\n",
    "- S_Key integer\n",
    "- subgrp_id integer\n",
    "- elig_ind integer\n",
    "- e_date date\n",
    "- t_date date\n"
   ]
  },
  {
   "cell_type": "code",
   "execution_count": 1,
   "id": "c333c640",
   "metadata": {},
   "outputs": [],
   "source": [
    "from faker import Faker"
   ]
  },
  {
   "cell_type": "code",
   "execution_count": 2,
   "id": "b18feabc",
   "metadata": {},
   "outputs": [],
   "source": [
    "import datetime"
   ]
  },
  {
   "cell_type": "code",
   "execution_count": 3,
   "id": "7333805a",
   "metadata": {},
   "outputs": [],
   "source": [
    "fake = Faker()"
   ]
  },
  {
   "cell_type": "code",
   "execution_count": 4,
   "id": "dbd40928",
   "metadata": {},
   "outputs": [],
   "source": [
    "f = Faker()"
   ]
  },
  {
   "cell_type": "code",
   "execution_count": 5,
   "id": "4a95c325",
   "metadata": {},
   "outputs": [],
   "source": [
    "gender = [\"Male\",\"Others\"]"
   ]
  },
  {
   "cell_type": "code",
   "execution_count": 6,
   "id": "1c16eb9b",
   "metadata": {},
   "outputs": [],
   "source": [
    "gender1 = [\"Male\",\"Female\"]"
   ]
  },
  {
   "cell_type": "code",
   "execution_count": 7,
   "id": "59ad42ba",
   "metadata": {},
   "outputs": [],
   "source": [
    "fake1 = Faker('en_IN')"
   ]
  },
  {
   "cell_type": "code",
   "execution_count": 8,
   "id": "05e2aa84",
   "metadata": {},
   "outputs": [
    {
     "data": {
      "text/plain": [
       "False"
      ]
     },
     "execution_count": 8,
     "metadata": {},
     "output_type": "execute_result"
    }
   ],
   "source": [
    "fake1.address().replace(\"\\n\",\" \").split(\" \")[-1].isalpha()"
   ]
  },
  {
   "cell_type": "code",
   "execution_count": 9,
   "id": "49c36390",
   "metadata": {},
   "outputs": [],
   "source": [
    "import sys\n",
    "import datetime\n",
    "import random\n",
    "from random import randrange\n",
    "import re\n",
    "import copy"
   ]
  },
  {
   "cell_type": "code",
   "execution_count": 10,
   "id": "9fe248f4",
   "metadata": {},
   "outputs": [],
   "source": [
    "sys.argv[1] = '100'"
   ]
  },
  {
   "cell_type": "code",
   "execution_count": 11,
   "id": "fb187349",
   "metadata": {},
   "outputs": [],
   "source": [
    "num_msgs = int(sys.argv[1])"
   ]
  },
  {
   "cell_type": "code",
   "execution_count": 12,
   "id": "5e515603",
   "metadata": {},
   "outputs": [],
   "source": [
    "import numpy as np"
   ]
  },
  {
   "cell_type": "code",
   "execution_count": 13,
   "id": "89fef164",
   "metadata": {},
   "outputs": [
    {
     "name": "stdout",
     "output_type": "stream",
     "text": [
      "Update Available on Pypi\n",
      "\n",
      "Please Update it.\n"
     ]
    }
   ],
   "source": [
    "from getindianname import *"
   ]
  },
  {
   "cell_type": "code",
   "execution_count": 14,
   "id": "eb2f9c9d",
   "metadata": {},
   "outputs": [],
   "source": [
    "import getindianname as name"
   ]
  },
  {
   "cell_type": "code",
   "execution_count": 15,
   "id": "d39741dd",
   "metadata": {},
   "outputs": [],
   "source": [
    "def random_date():\n",
    "    \n",
    "    start_date = datetime.date(2012, 1, 1)\n",
    "    end_date = datetime.date(2040, 12, 31)\n",
    "\n",
    "    time_between_dates = end_date - start_date\n",
    "    days_between_dates = time_between_dates.days\n",
    "    random_number_of_days = random.randrange(days_between_dates)\n",
    "    random_date = start_date + datetime.timedelta(days=random_number_of_days)\n",
    "    \n",
    "    return random_date"
   ]
  },
  {
   "cell_type": "code",
   "execution_count": 16,
   "id": "f5f30797",
   "metadata": {},
   "outputs": [],
   "source": [
    "while True:\n",
    "    birth_date1 = fake.date_between_dates(date_start=datetime.datetime(1940,1,1),date_end=datetime.datetime(2022,1,1))\n",
    "    birth_date2 = fake.date_between_dates(date_start=datetime.datetime(1940,1,1),date_end=datetime.datetime(2022,1,1))\n",
    "    if (birth_date1-birth_date2).days<0:\n",
    "        break\n",
    "        "
   ]
  },
  {
   "cell_type": "code",
   "execution_count": 17,
   "id": "91c35ca4",
   "metadata": {},
   "outputs": [],
   "source": [
    "from datetime import date"
   ]
  },
  {
   "cell_type": "code",
   "execution_count": 46,
   "id": "786d6a53",
   "metadata": {},
   "outputs": [],
   "source": [
    "at = []\n",
    "for i in range(0,36):\n",
    "    at.append(random.randint(0,1))\n",
    "    res1 = at"
   ]
  },
  {
   "cell_type": "code",
   "execution_count": 54,
   "id": "4d1a9c94",
   "metadata": {},
   "outputs": [],
   "source": [
    "i= 0\n",
    "\n",
    "while True:\n",
    "    res = []\n",
    "    random.seed(i)\n",
    "    for j in range(0,100):\n",
    "        res.append(random.randint(0,1))\n",
    "    if(sum(res)>=63):\n",
    "        break\n",
    "    i = i+1"
   ]
  },
  {
   "cell_type": "code",
   "execution_count": 18,
   "id": "13e04987",
   "metadata": {},
   "outputs": [],
   "source": [
    "while True:\n",
    "            eff_date = fake.date_between_dates(date_start=datetime.datetime(1940,1,1),date_end=datetime.datetime(2010,1,1))\n",
    "            term_date = fake.date_between_dates(date_start=datetime.datetime(1990,1,1),date_end=datetime.datetime(2023,1,1))\n",
    "            if (eff_date-term_date).days>0 :\n",
    "                break"
   ]
  },
  {
   "cell_type": "code",
   "execution_count": 60,
   "id": "18d7d8b0",
   "metadata": {},
   "outputs": [],
   "source": [
    "for i in range(0,25):\n",
    "    res[random.randrange(0,100)] = 1"
   ]
  },
  {
   "cell_type": "code",
   "execution_count": 62,
   "id": "2cb417e2",
   "metadata": {},
   "outputs": [],
   "source": [
    "total_res = res"
   ]
  },
  {
   "cell_type": "code",
   "execution_count": 70,
   "id": "6864903e",
   "metadata": {},
   "outputs": [],
   "source": [
    "row_list = []"
   ]
  },
  {
   "cell_type": "code",
   "execution_count": 61,
   "id": "9114325b",
   "metadata": {},
   "outputs": [
    {
     "data": {
      "text/plain": [
       "74"
      ]
     },
     "execution_count": 61,
     "metadata": {},
     "output_type": "execute_result"
    }
   ],
   "source": [
    "sum(res)"
   ]
  },
  {
   "cell_type": "code",
   "execution_count": 68,
   "id": "51d412b7",
   "metadata": {},
   "outputs": [],
   "source": [
    "fname = name.randname()\n",
    "fullname = fname.split(\" \")\n",
    "f_name = fullname[0]\n",
    "l_name = fullname[1]"
   ]
  },
  {
   "cell_type": "code",
   "execution_count": 69,
   "id": "eb172f68",
   "metadata": {},
   "outputs": [
    {
     "data": {
      "text/plain": [
       "'Neel'"
      ]
     },
     "execution_count": 69,
     "metadata": {},
     "output_type": "execute_result"
    }
   ],
   "source": [
    "f_name"
   ]
  },
  {
   "cell_type": "code",
   "execution_count": null,
   "id": "0e2b9bf2",
   "metadata": {},
   "outputs": [],
   "source": []
  },
  {
   "cell_type": "code",
   "execution_count": null,
   "id": "b4cca33d",
   "metadata": {},
   "outputs": [],
   "source": []
  },
  {
   "cell_type": "code",
   "execution_count": null,
   "id": "cd906a3f",
   "metadata": {},
   "outputs": [],
   "source": []
  },
  {
   "cell_type": "code",
   "execution_count": 71,
   "id": "829ef1d7",
   "metadata": {},
   "outputs": [],
   "source": [
    "row_list.append([\"sub _id\", \"first_name\", \"last_name\",\"Street\",\"Birth_date\",\"Gender\",\"Phone\",\"Country\",\"City\",\"Zip Code\",\"Subgrp_id\",\"Elig_ind\",\"eff_date\",\"term_date\"])"
   ]
  },
  {
   "cell_type": "code",
   "execution_count": 72,
   "id": "58856ff2",
   "metadata": {},
   "outputs": [],
   "source": [
    "t = random.sample(range(0,100),4)\n",
    "w = random.sample(range(0,100),3)\n",
    "sr = random.sample(range(0,100),2)\n",
    "for counter in range(0, num_msgs):\n",
    "    if(total_res[:100][counter]):\n",
    "        subscriber_id = \"SUBID\"+str(10000+counter)\n",
    "    else:\n",
    "        subscriber_id = \"SUBID\"+str(1000+counter)\n",
    "    \n",
    "    fname = name.randname()\n",
    "    fullname = fname.split(\" \")\n",
    "    f_name = fullname[0]\n",
    "    l_name = fullname[1]\n",
    "    street = fake1.street_name()\n",
    "    birth_date = str(fake.date_between_dates(date_start=datetime.datetime(1940,1,1),date_end=datetime.datetime(2022,1,1)))\n",
    "    if(counter>90):\n",
    "        sub_gender = random.choice(gender)\n",
    "    else:\n",
    "        sub_gender = random.choice(gender1)\n",
    "    if counter in w:\n",
    "        phone = \"NA\"\n",
    "    else:\n",
    "        phone = f'+91 {fake1.msisdn()[3:]}'\n",
    "    country = \"India\"\n",
    "    city = fake1.city()\n",
    "    zipcode = fake1.postcode()\n",
    "    if counter in sr:\n",
    "        subgrp_id = \"NA\"\n",
    "    else:\n",
    "        subgrp_id = \"S\"+str(random.randint(101,110))\n",
    "    \n",
    "    if counter in t:\n",
    "        Elig_ind = \"NA\"\n",
    "    else:\n",
    "        Elig_ind= random.choice([\"Y\",\"N\"])\n",
    "\n",
    "    while True:\n",
    "        eff_date = fake.date_between_dates(date_start=datetime.datetime(1940,1,1),date_end=datetime.datetime(2022,1,1))\n",
    "        term_date = fake.date_between_dates(date_start=datetime.datetime(1940,1,1),date_end=datetime.datetime(2023,1,1))\n",
    "        if( -((eff_date-term_date).days/365)>=1 and -((eff_date-term_date).days/365)<=10) and ((eff_date-term_date).days)<0:\n",
    "            break\n",
    "    eff_date = str(eff_date)\n",
    "    term_date =str(term_date)\n",
    "    row_list.append([subscriber_id,f_name,l_name,street,birth_date,sub_gender,phone,country,city,zipcode,subgrp_id,Elig_ind,eff_date,term_date])"
   ]
  },
  {
   "cell_type": "code",
   "execution_count": 73,
   "id": "4a2b5372",
   "metadata": {},
   "outputs": [
    {
     "data": {
      "text/plain": [
       "['SUBID1000',\n",
       " 'Harbir',\n",
       " 'Vishwakarma',\n",
       " 'Baria Marg',\n",
       " '1960-02-24',\n",
       " 'Female',\n",
       " '+91 0112009318',\n",
       " 'India',\n",
       " 'Rourkela',\n",
       " '767058',\n",
       " 'S107',\n",
       " 'Y',\n",
       " '1944-06-30',\n",
       " '1954-01-14']"
      ]
     },
     "execution_count": 73,
     "metadata": {},
     "output_type": "execute_result"
    }
   ],
   "source": [
    "row_list[1]"
   ]
  },
  {
   "cell_type": "code",
   "execution_count": 164,
   "id": "0347ca63",
   "metadata": {},
   "outputs": [],
   "source": [
    "for counter in range(0, num_msgs):\n",
    "    subscriber_id = \"SUBID\"+str(10000+counter)\n",
    "    name = name.randname()\n",
    "    fullname = fname.split(\" \")\n",
    "    f_name = fullname[0]\n",
    "    l_name = fullname[1]\n",
    "    tot_customer = random.randrange(1,30)\n",
    "    premium_written = float(\"{:.2f}\".format(random.uniform(1000,1000000)))\n",
    "    street = random.choice(streets)\n",
    "    city = random.choice(cities)\n",
    "    state = random.choice(states)\n",
    "    pincode = random.choice(pincodes)\n",
    "    license_date = random_date().strftime(\"%m/%d/%Y\")\n",
    "    country = random.choice(countries)\n",
    "    policy_id = random.randrange(300,400)\n",
    "    policy_typ = random.choice(policy_type)\n",
    "    policy_monthly_premium = float(\"{:.2f}\".format(random.uniform(105.0,1152.0)))\n",
    "    policy_features = ','.join(random.sample(policies_features,random.randint(1,6)))\n",
    "    policy_desc = ','.join(random.sample(policy_descriptions,random.randint(1,3)))\n",
    "    row_list.append([company_id,company_name,tot_customer,premium_written,street,city,state,pincode,license_date,country,policy_id,policy_typ,policy_monthly_premium,policy_features,policy_desc])"
   ]
  },
  {
   "cell_type": "code",
   "execution_count": 75,
   "id": "b361fddf",
   "metadata": {},
   "outputs": [],
   "source": [
    "import csv"
   ]
  },
  {
   "cell_type": "code",
   "execution_count": 76,
   "id": "681cca96",
   "metadata": {},
   "outputs": [],
   "source": [
    "with open('subscriber_new.csv','w', newline='') as file:\n",
    "\n",
    "    writer = csv.writer(file)\n",
    "    writer.writerows(row_list)\n"
   ]
  },
  {
   "cell_type": "code",
   "execution_count": null,
   "id": "c92a46fa",
   "metadata": {},
   "outputs": [],
   "source": []
  },
  {
   "cell_type": "code",
   "execution_count": null,
   "id": "e5a5e6fb",
   "metadata": {},
   "outputs": [],
   "source": []
  }
 ],
 "metadata": {
  "kernelspec": {
   "display_name": "Python 3 (ipykernel)",
   "language": "python",
   "name": "python3"
  },
  "language_info": {
   "codemirror_mode": {
    "name": "ipython",
    "version": 3
   },
   "file_extension": ".py",
   "mimetype": "text/x-python",
   "name": "python",
   "nbconvert_exporter": "python",
   "pygments_lexer": "ipython3",
   "version": "3.9.7"
  }
 },
 "nbformat": 4,
 "nbformat_minor": 5
}

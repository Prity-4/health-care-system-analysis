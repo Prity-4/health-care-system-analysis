{
 "cells": [
  {
   "cell_type": "code",
   "execution_count": 1,
   "metadata": {},
   "outputs": [],
   "source": [
    "# Importing data preprocessing lib\n",
    "import pandas as pd\n"
   ]
  },
  {
   "cell_type": "code",
   "execution_count": 2,
   "metadata": {},
   "outputs": [
    {
     "name": "stdout",
     "output_type": "stream",
     "text": [
      "<mysql.connector.connection.MySQLConnection object at 0x7fb087be2550>\n"
     ]
    }
   ],
   "source": [
    "# Import mysql connector and stablish connection\n",
    "import mysql.connector\n",
    "\n",
    "mydb = mysql.connector.connect(\n",
    "  host=\"localhost\",\n",
    "  user=\"root\",\n",
    "  password=\"password\"\n",
    ")\n",
    "\n",
    "print(mydb) "
   ]
  },
  {
   "cell_type": "code",
   "execution_count": 3,
   "metadata": {},
   "outputs": [
    {
     "name": "stdout",
     "output_type": "stream",
     "text": [
      "('information_schema',)\n",
      "('axisbank',)\n",
      "('healthcare',)\n",
      "('metastore',)\n",
      "('metastore_db',)\n",
      "('mysql',)\n",
      "('performance_schema',)\n",
      "('sumit',)\n",
      "('sys',)\n"
     ]
    }
   ],
   "source": [
    "# Print the databases (list of databses)\n",
    "mycursor = mydb.cursor()\n",
    "\n",
    "mycursor.execute(\"show databases\")\n",
    "myresult = mycursor.fetchall()\n",
    "\n",
    "for x in myresult:\n",
    "    print(x)"
   ]
  },
  {
   "cell_type": "code",
   "execution_count": 6,
   "metadata": {},
   "outputs": [
    {
     "ename": "DatabaseError",
     "evalue": "1007 (HY000): Can't create database 'healthcare'; database exists",
     "output_type": "error",
     "traceback": [
      "\u001b[0;31m---------------------------------------------------------------------------\u001b[0m",
      "\u001b[0;31mDatabaseError\u001b[0m                             Traceback (most recent call last)",
      "\u001b[0;32m<ipython-input-6-73e1ee519cdf>\u001b[0m in \u001b[0;36m<module>\u001b[0;34m()\u001b[0m\n\u001b[1;32m      1\u001b[0m \u001b[0;31m# Create new database\u001b[0m\u001b[0;34m\u001b[0m\u001b[0;34m\u001b[0m\u001b[0;34m\u001b[0m\u001b[0m\n\u001b[1;32m      2\u001b[0m \u001b[0;34m\u001b[0m\u001b[0m\n\u001b[0;32m----> 3\u001b[0;31m \u001b[0mmycursor\u001b[0m\u001b[0;34m.\u001b[0m\u001b[0mexecute\u001b[0m\u001b[0;34m(\u001b[0m\u001b[0;34m\"CREATE DATABASE healthcare\"\u001b[0m\u001b[0;34m)\u001b[0m\u001b[0;34m\u001b[0m\u001b[0;34m\u001b[0m\u001b[0m\n\u001b[0m",
      "\u001b[0;32m/home/ubh01/.local/lib/python3.6/site-packages/mysql/connector/cursor.py\u001b[0m in \u001b[0;36mexecute\u001b[0;34m(self, operation, params, multi)\u001b[0m\n\u001b[1;32m    570\u001b[0m \u001b[0;34m\u001b[0m\u001b[0m\n\u001b[1;32m    571\u001b[0m         \u001b[0;32mtry\u001b[0m\u001b[0;34m:\u001b[0m\u001b[0;34m\u001b[0m\u001b[0;34m\u001b[0m\u001b[0m\n\u001b[0;32m--> 572\u001b[0;31m             \u001b[0mself\u001b[0m\u001b[0;34m.\u001b[0m\u001b[0m_handle_result\u001b[0m\u001b[0;34m(\u001b[0m\u001b[0mself\u001b[0m\u001b[0;34m.\u001b[0m\u001b[0m_connection\u001b[0m\u001b[0;34m.\u001b[0m\u001b[0mcmd_query\u001b[0m\u001b[0;34m(\u001b[0m\u001b[0mstmt\u001b[0m\u001b[0;34m)\u001b[0m\u001b[0;34m)\u001b[0m\u001b[0;34m\u001b[0m\u001b[0;34m\u001b[0m\u001b[0m\n\u001b[0m\u001b[1;32m    573\u001b[0m         \u001b[0;32mexcept\u001b[0m \u001b[0merrors\u001b[0m\u001b[0;34m.\u001b[0m\u001b[0mInterfaceError\u001b[0m\u001b[0;34m:\u001b[0m\u001b[0;34m\u001b[0m\u001b[0;34m\u001b[0m\u001b[0m\n\u001b[1;32m    574\u001b[0m             \u001b[0;32mif\u001b[0m \u001b[0mself\u001b[0m\u001b[0;34m.\u001b[0m\u001b[0m_connection\u001b[0m\u001b[0;34m.\u001b[0m\u001b[0m_have_next_result\u001b[0m\u001b[0;34m:\u001b[0m  \u001b[0;31m# pylint: disable=W0212\u001b[0m\u001b[0;34m\u001b[0m\u001b[0;34m\u001b[0m\u001b[0m\n",
      "\u001b[0;32m/home/ubh01/.local/lib/python3.6/site-packages/mysql/connector/connection.py\u001b[0m in \u001b[0;36mcmd_query\u001b[0;34m(self, query, raw, buffered, raw_as_string)\u001b[0m\n\u001b[1;32m    920\u001b[0m         \u001b[0mquery\u001b[0m \u001b[0;34m=\u001b[0m \u001b[0mbytes\u001b[0m\u001b[0;34m(\u001b[0m\u001b[0mpacket\u001b[0m\u001b[0;34m)\u001b[0m\u001b[0;34m\u001b[0m\u001b[0;34m\u001b[0m\u001b[0m\n\u001b[1;32m    921\u001b[0m         \u001b[0;32mtry\u001b[0m\u001b[0;34m:\u001b[0m\u001b[0;34m\u001b[0m\u001b[0;34m\u001b[0m\u001b[0m\n\u001b[0;32m--> 922\u001b[0;31m             \u001b[0mresult\u001b[0m \u001b[0;34m=\u001b[0m \u001b[0mself\u001b[0m\u001b[0;34m.\u001b[0m\u001b[0m_handle_result\u001b[0m\u001b[0;34m(\u001b[0m\u001b[0mself\u001b[0m\u001b[0;34m.\u001b[0m\u001b[0m_send_cmd\u001b[0m\u001b[0;34m(\u001b[0m\u001b[0mServerCmd\u001b[0m\u001b[0;34m.\u001b[0m\u001b[0mQUERY\u001b[0m\u001b[0;34m,\u001b[0m \u001b[0mquery\u001b[0m\u001b[0;34m)\u001b[0m\u001b[0;34m)\u001b[0m\u001b[0;34m\u001b[0m\u001b[0;34m\u001b[0m\u001b[0m\n\u001b[0m\u001b[1;32m    923\u001b[0m         \u001b[0;32mexcept\u001b[0m \u001b[0merrors\u001b[0m\u001b[0;34m.\u001b[0m\u001b[0mProgrammingError\u001b[0m \u001b[0;32mas\u001b[0m \u001b[0merr\u001b[0m\u001b[0;34m:\u001b[0m\u001b[0;34m\u001b[0m\u001b[0;34m\u001b[0m\u001b[0m\n\u001b[1;32m    924\u001b[0m             \u001b[0;32mif\u001b[0m \u001b[0merr\u001b[0m\u001b[0;34m.\u001b[0m\u001b[0merrno\u001b[0m \u001b[0;34m==\u001b[0m \u001b[0;36m3948\u001b[0m \u001b[0;32mand\u001b[0m\u001b[0;31m \u001b[0m\u001b[0;31m\\\u001b[0m\u001b[0;34m\u001b[0m\u001b[0;34m\u001b[0m\u001b[0m\n",
      "\u001b[0;32m/home/ubh01/.local/lib/python3.6/site-packages/mysql/connector/connection.py\u001b[0m in \u001b[0;36m_handle_result\u001b[0;34m(self, packet)\u001b[0m\n\u001b[1;32m    730\u001b[0m             \u001b[0;32mreturn\u001b[0m \u001b[0mself\u001b[0m\u001b[0;34m.\u001b[0m\u001b[0m_handle_eof\u001b[0m\u001b[0;34m(\u001b[0m\u001b[0mpacket\u001b[0m\u001b[0;34m)\u001b[0m\u001b[0;34m\u001b[0m\u001b[0;34m\u001b[0m\u001b[0m\n\u001b[1;32m    731\u001b[0m         \u001b[0;32melif\u001b[0m \u001b[0mpacket\u001b[0m\u001b[0;34m[\u001b[0m\u001b[0;36m4\u001b[0m\u001b[0;34m]\u001b[0m \u001b[0;34m==\u001b[0m \u001b[0;36m255\u001b[0m\u001b[0;34m:\u001b[0m\u001b[0;34m\u001b[0m\u001b[0;34m\u001b[0m\u001b[0m\n\u001b[0;32m--> 732\u001b[0;31m             \u001b[0;32mraise\u001b[0m \u001b[0merrors\u001b[0m\u001b[0;34m.\u001b[0m\u001b[0mget_exception\u001b[0m\u001b[0;34m(\u001b[0m\u001b[0mpacket\u001b[0m\u001b[0;34m)\u001b[0m\u001b[0;34m\u001b[0m\u001b[0;34m\u001b[0m\u001b[0m\n\u001b[0m\u001b[1;32m    733\u001b[0m \u001b[0;34m\u001b[0m\u001b[0m\n\u001b[1;32m    734\u001b[0m         \u001b[0;31m# We have a text result set\u001b[0m\u001b[0;34m\u001b[0m\u001b[0;34m\u001b[0m\u001b[0;34m\u001b[0m\u001b[0m\n",
      "\u001b[0;31mDatabaseError\u001b[0m: 1007 (HY000): Can't create database 'healthcare'; database exists"
     ]
    }
   ],
   "source": [
    "# Create new database\n",
    "\n",
    "mycursor.execute(\"CREATE DATABASE healthcare\")"
   ]
  },
  {
   "cell_type": "code",
   "execution_count": 7,
   "metadata": {},
   "outputs": [],
   "source": [
    "# Use new database\n",
    "\n",
    "mydb = mysql.connector.connect(\n",
    "  host=\"localhost\",\n",
    "  user=\"root\",\n",
    "  password=\"password\",\n",
    "    database=\"healthcare\"\n",
    ")\n",
    "\n",
    "mycursor = mydb.cursor()"
   ]
  },
  {
   "cell_type": "code",
   "execution_count": 8,
   "metadata": {},
   "outputs": [
    {
     "name": "stderr",
     "output_type": "stream",
     "text": [
      "ERROR:root:An unexpected error occurred while tokenizing input\n",
      "The following traceback may be corrupted or invalid\n",
      "The error message is: ('EOF in multi-line string', (1, 70))\n",
      "\n"
     ]
    },
    {
     "ename": "ProgrammingError",
     "evalue": "1050 (42S01): Table 'groups' already exists",
     "output_type": "error",
     "traceback": [
      "\u001b[0;31m---------------------------------------------------------------------------\u001b[0m",
      "\u001b[0;31mProgrammingError\u001b[0m                          Traceback (most recent call last)",
      "\u001b[0;32m<ipython-input-8-d918049173b4>\u001b[0m in \u001b[0;36m<module>\u001b[0;34m()\u001b[0m\n\u001b[1;32m      3\u001b[0m mycursor.execute(\"\"\"CREATE TABLE groups (grp_sk int NOT NULL UNIQUE AUTO_INCREMENT,grp_id VARCHAR(6) NOT NULL PRIMARY KEY,\n\u001b[1;32m      4\u001b[0m                  \u001b[0mgrp_name\u001b[0m \u001b[0mCHAR\u001b[0m\u001b[0;34m(\u001b[0m\u001b[0;36m90\u001b[0m\u001b[0;34m)\u001b[0m\u001b[0;34m,\u001b[0m\u001b[0mpremium_written\u001b[0m \u001b[0mint\u001b[0m \u001b[0mNOT\u001b[0m \u001b[0mNULL\u001b[0m\u001b[0;34m,\u001b[0m\u001b[0mcity\u001b[0m \u001b[0mVARCHAR\u001b[0m\u001b[0;34m(\u001b[0m\u001b[0;36m20\u001b[0m\u001b[0;34m)\u001b[0m\u001b[0;34m,\u001b[0m\u001b[0;34m\u001b[0m\u001b[0;34m\u001b[0m\u001b[0m\n\u001b[0;32m----> 5\u001b[0;31m                  zip_code int,country VARCHAR(5),grp_type VARCHAR(10))\"\"\")\n\u001b[0m",
      "\u001b[0;32m/home/ubh01/.local/lib/python3.6/site-packages/mysql/connector/cursor.py\u001b[0m in \u001b[0;36mexecute\u001b[0;34m(self, operation, params, multi)\u001b[0m\n\u001b[1;32m    570\u001b[0m \u001b[0;34m\u001b[0m\u001b[0m\n\u001b[1;32m    571\u001b[0m         \u001b[0;32mtry\u001b[0m\u001b[0;34m:\u001b[0m\u001b[0;34m\u001b[0m\u001b[0;34m\u001b[0m\u001b[0m\n\u001b[0;32m--> 572\u001b[0;31m             \u001b[0mself\u001b[0m\u001b[0;34m.\u001b[0m\u001b[0m_handle_result\u001b[0m\u001b[0;34m(\u001b[0m\u001b[0mself\u001b[0m\u001b[0;34m.\u001b[0m\u001b[0m_connection\u001b[0m\u001b[0;34m.\u001b[0m\u001b[0mcmd_query\u001b[0m\u001b[0;34m(\u001b[0m\u001b[0mstmt\u001b[0m\u001b[0;34m)\u001b[0m\u001b[0;34m)\u001b[0m\u001b[0;34m\u001b[0m\u001b[0;34m\u001b[0m\u001b[0m\n\u001b[0m\u001b[1;32m    573\u001b[0m         \u001b[0;32mexcept\u001b[0m \u001b[0merrors\u001b[0m\u001b[0;34m.\u001b[0m\u001b[0mInterfaceError\u001b[0m\u001b[0;34m:\u001b[0m\u001b[0;34m\u001b[0m\u001b[0;34m\u001b[0m\u001b[0m\n\u001b[1;32m    574\u001b[0m             \u001b[0;32mif\u001b[0m \u001b[0mself\u001b[0m\u001b[0;34m.\u001b[0m\u001b[0m_connection\u001b[0m\u001b[0;34m.\u001b[0m\u001b[0m_have_next_result\u001b[0m\u001b[0;34m:\u001b[0m  \u001b[0;31m# pylint: disable=W0212\u001b[0m\u001b[0;34m\u001b[0m\u001b[0;34m\u001b[0m\u001b[0m\n",
      "\u001b[0;32m/home/ubh01/.local/lib/python3.6/site-packages/mysql/connector/connection.py\u001b[0m in \u001b[0;36mcmd_query\u001b[0;34m(self, query, raw, buffered, raw_as_string)\u001b[0m\n\u001b[1;32m    920\u001b[0m         \u001b[0mquery\u001b[0m \u001b[0;34m=\u001b[0m \u001b[0mbytes\u001b[0m\u001b[0;34m(\u001b[0m\u001b[0mpacket\u001b[0m\u001b[0;34m)\u001b[0m\u001b[0;34m\u001b[0m\u001b[0;34m\u001b[0m\u001b[0m\n\u001b[1;32m    921\u001b[0m         \u001b[0;32mtry\u001b[0m\u001b[0;34m:\u001b[0m\u001b[0;34m\u001b[0m\u001b[0;34m\u001b[0m\u001b[0m\n\u001b[0;32m--> 922\u001b[0;31m             \u001b[0mresult\u001b[0m \u001b[0;34m=\u001b[0m \u001b[0mself\u001b[0m\u001b[0;34m.\u001b[0m\u001b[0m_handle_result\u001b[0m\u001b[0;34m(\u001b[0m\u001b[0mself\u001b[0m\u001b[0;34m.\u001b[0m\u001b[0m_send_cmd\u001b[0m\u001b[0;34m(\u001b[0m\u001b[0mServerCmd\u001b[0m\u001b[0;34m.\u001b[0m\u001b[0mQUERY\u001b[0m\u001b[0;34m,\u001b[0m \u001b[0mquery\u001b[0m\u001b[0;34m)\u001b[0m\u001b[0;34m)\u001b[0m\u001b[0;34m\u001b[0m\u001b[0;34m\u001b[0m\u001b[0m\n\u001b[0m\u001b[1;32m    923\u001b[0m         \u001b[0;32mexcept\u001b[0m \u001b[0merrors\u001b[0m\u001b[0;34m.\u001b[0m\u001b[0mProgrammingError\u001b[0m \u001b[0;32mas\u001b[0m \u001b[0merr\u001b[0m\u001b[0;34m:\u001b[0m\u001b[0;34m\u001b[0m\u001b[0;34m\u001b[0m\u001b[0m\n\u001b[1;32m    924\u001b[0m             \u001b[0;32mif\u001b[0m \u001b[0merr\u001b[0m\u001b[0;34m.\u001b[0m\u001b[0merrno\u001b[0m \u001b[0;34m==\u001b[0m \u001b[0;36m3948\u001b[0m \u001b[0;32mand\u001b[0m\u001b[0;31m \u001b[0m\u001b[0;31m\\\u001b[0m\u001b[0;34m\u001b[0m\u001b[0;34m\u001b[0m\u001b[0m\n",
      "\u001b[0;32m/home/ubh01/.local/lib/python3.6/site-packages/mysql/connector/connection.py\u001b[0m in \u001b[0;36m_handle_result\u001b[0;34m(self, packet)\u001b[0m\n\u001b[1;32m    730\u001b[0m             \u001b[0;32mreturn\u001b[0m \u001b[0mself\u001b[0m\u001b[0;34m.\u001b[0m\u001b[0m_handle_eof\u001b[0m\u001b[0;34m(\u001b[0m\u001b[0mpacket\u001b[0m\u001b[0;34m)\u001b[0m\u001b[0;34m\u001b[0m\u001b[0;34m\u001b[0m\u001b[0m\n\u001b[1;32m    731\u001b[0m         \u001b[0;32melif\u001b[0m \u001b[0mpacket\u001b[0m\u001b[0;34m[\u001b[0m\u001b[0;36m4\u001b[0m\u001b[0;34m]\u001b[0m \u001b[0;34m==\u001b[0m \u001b[0;36m255\u001b[0m\u001b[0;34m:\u001b[0m\u001b[0;34m\u001b[0m\u001b[0;34m\u001b[0m\u001b[0m\n\u001b[0;32m--> 732\u001b[0;31m             \u001b[0;32mraise\u001b[0m \u001b[0merrors\u001b[0m\u001b[0;34m.\u001b[0m\u001b[0mget_exception\u001b[0m\u001b[0;34m(\u001b[0m\u001b[0mpacket\u001b[0m\u001b[0;34m)\u001b[0m\u001b[0;34m\u001b[0m\u001b[0;34m\u001b[0m\u001b[0m\n\u001b[0m\u001b[1;32m    733\u001b[0m \u001b[0;34m\u001b[0m\u001b[0m\n\u001b[1;32m    734\u001b[0m         \u001b[0;31m# We have a text result set\u001b[0m\u001b[0;34m\u001b[0m\u001b[0;34m\u001b[0m\u001b[0;34m\u001b[0m\u001b[0m\n",
      "\u001b[0;31mProgrammingError\u001b[0m: 1050 (42S01): Table 'groups' already exists"
     ]
    }
   ],
   "source": [
    "# Create new table groups\n",
    "\n",
    "mycursor.execute(\"\"\"CREATE TABLE groups (grp_sk int NOT NULL UNIQUE AUTO_INCREMENT,grp_id VARCHAR(6) NOT NULL PRIMARY KEY,\n",
    "                 grp_name CHAR(90),premium_written int NOT NULL,city VARCHAR(20),\n",
    "                 zip_code int,country VARCHAR(5),grp_type VARCHAR(10))\"\"\")"
   ]
  },
  {
   "cell_type": "code",
   "execution_count": null,
   "metadata": {},
   "outputs": [],
   "source": [
    "# Create new table group_subgroup\n",
    "mycursor.execute(\"\"\"CREATE TABLE group_subgroup (g_id VARCHAR(6) NOT NULL,s_id VARCHAR(4) NOT NULL,FOREIGN KEY(g_id) REFERENCES groups(grp_id),FOREIGN KEY(s_id) REFERENCES subgroup(subgrp_id))\"\"\")"
   ]
  },
  {
   "cell_type": "code",
   "execution_count": null,
   "metadata": {},
   "outputs": [],
   "source": [
    "# Create new table subgroup\n",
    "mycursor.execute(\"\"\"CREATE TABLE subgroup (subgrp_sk int NOT NULL UNIQUE AUTO_INCREMENT,subgrp_id VARCHAR(4) NOT NULL PRIMARY KEY,\n",
    "                 subgrp_name VARCHAR(90),monthly_premium float(6,2))\"\"\")"
   ]
  },
  {
   "cell_type": "code",
   "execution_count": null,
   "metadata": {},
   "outputs": [],
   "source": [
    "# Create new table disease\n",
    "mycursor.execute(\"\"\"CREATE TABLE disease (disease_id int NOT NULL PRIMARY KEY ,disease_name VARCHAR(30) NOT NULL ,\n",
    "                 subgrp_id VARCHAR(4),FOREIGN KEY(subgrp_id) REFERENCES subgroup(subgrp_id))\"\"\")"
   ]
  },
  {
   "cell_type": "code",
   "execution_count": null,
   "metadata": {},
   "outputs": [],
   "source": [
    "# Create new table subscriber\n",
    "mycursor.execute(\"\"\"CREATE TABLE subscriber (sub_id VARCHAR(10) NOT NULL PRIMARY KEY ,first_name VARCHAR(30) ,\n",
    "                 last_name VARCHAR(20),street VARCHAR(30),birth_date DATE,gender VARCHAR(6),phone VARCHAR(15),city VARCHAR(30),\n",
    "                 zip_code int,country VARCHAR(10),subgrp_id VARCHAR(4),elig_ind VARCHAR(2) NOT NULL,eff_date DATE NOT NULL,term_date DATE,FOREIGN KEY(subgrp_id) REFERENCES subgroup(subgrp_id))\"\"\")"
   ]
  },
  {
   "cell_type": "code",
   "execution_count": null,
   "metadata": {},
   "outputs": [],
   "source": [
    "# Create new table claims\n",
    "mycursor.execute(\"\"\"CREATE TABLE claims (claim_id int NOT NULL PRIMARY KEY ,patient_id int NOT NULL,disease_name VARCHAR(20),\n",
    "                 sub_id VARCHAR(10),claim_or_rejected VARCHAR(2),claim_type VARCHAR(20),claim_amount float(8,2),claim_date DATE,FOREIGN KEY(sub_id) REFERENCES subscriber(sub_id),FOREIGN KEY(patient_id) REFERENCES patient_details(patient_id))\"\"\")"
   ]
  },
  {
   "cell_type": "code",
   "execution_count": 10,
   "metadata": {},
   "outputs": [
    {
     "ename": "ProgrammingError",
     "evalue": "1046 (3D000): No database selected",
     "output_type": "error",
     "traceback": [
      "\u001b[0;31m---------------------------------------------------------------------------\u001b[0m",
      "\u001b[0;31mProgrammingError\u001b[0m                          Traceback (most recent call last)",
      "\u001b[0;32m<ipython-input-10-931a4dd67895>\u001b[0m in \u001b[0;36m<module>\u001b[0;34m()\u001b[0m\n\u001b[1;32m      1\u001b[0m \u001b[0;31m# Create new table patient_details\u001b[0m\u001b[0;34m\u001b[0m\u001b[0;34m\u001b[0m\u001b[0;34m\u001b[0m\u001b[0m\n\u001b[0;32m----> 2\u001b[0;31m \u001b[0mmycursor\u001b[0m\u001b[0;34m.\u001b[0m\u001b[0mexecute\u001b[0m\u001b[0;34m(\u001b[0m\u001b[0;34m\"\"\"CREATE TABLE patient_details(patient_id int NOT NULL PRIMARY KEY,patient_name VARCHAR(20),patient_gender VARCHAR(6),patient_birth_date DATE,patient_phone VARCHAR(15),disease_name VARCHAR(20),city VARCHAR(20),hospital_id VARCHAR(5),FOREIGN KEY(hospital_id) REFERENCES hospital_details(hospital_id))\"\"\"\u001b[0m\u001b[0;34m)\u001b[0m\u001b[0;34m\u001b[0m\u001b[0;34m\u001b[0m\u001b[0m\n\u001b[0m",
      "\u001b[0;32m/home/ubh01/.local/lib/python3.6/site-packages/mysql/connector/cursor.py\u001b[0m in \u001b[0;36mexecute\u001b[0;34m(self, operation, params, multi)\u001b[0m\n\u001b[1;32m    570\u001b[0m \u001b[0;34m\u001b[0m\u001b[0m\n\u001b[1;32m    571\u001b[0m         \u001b[0;32mtry\u001b[0m\u001b[0;34m:\u001b[0m\u001b[0;34m\u001b[0m\u001b[0;34m\u001b[0m\u001b[0m\n\u001b[0;32m--> 572\u001b[0;31m             \u001b[0mself\u001b[0m\u001b[0;34m.\u001b[0m\u001b[0m_handle_result\u001b[0m\u001b[0;34m(\u001b[0m\u001b[0mself\u001b[0m\u001b[0;34m.\u001b[0m\u001b[0m_connection\u001b[0m\u001b[0;34m.\u001b[0m\u001b[0mcmd_query\u001b[0m\u001b[0;34m(\u001b[0m\u001b[0mstmt\u001b[0m\u001b[0;34m)\u001b[0m\u001b[0;34m)\u001b[0m\u001b[0;34m\u001b[0m\u001b[0;34m\u001b[0m\u001b[0m\n\u001b[0m\u001b[1;32m    573\u001b[0m         \u001b[0;32mexcept\u001b[0m \u001b[0merrors\u001b[0m\u001b[0;34m.\u001b[0m\u001b[0mInterfaceError\u001b[0m\u001b[0;34m:\u001b[0m\u001b[0;34m\u001b[0m\u001b[0;34m\u001b[0m\u001b[0m\n\u001b[1;32m    574\u001b[0m             \u001b[0;32mif\u001b[0m \u001b[0mself\u001b[0m\u001b[0;34m.\u001b[0m\u001b[0m_connection\u001b[0m\u001b[0;34m.\u001b[0m\u001b[0m_have_next_result\u001b[0m\u001b[0;34m:\u001b[0m  \u001b[0;31m# pylint: disable=W0212\u001b[0m\u001b[0;34m\u001b[0m\u001b[0;34m\u001b[0m\u001b[0m\n",
      "\u001b[0;32m/home/ubh01/.local/lib/python3.6/site-packages/mysql/connector/connection.py\u001b[0m in \u001b[0;36mcmd_query\u001b[0;34m(self, query, raw, buffered, raw_as_string)\u001b[0m\n\u001b[1;32m    920\u001b[0m         \u001b[0mquery\u001b[0m \u001b[0;34m=\u001b[0m \u001b[0mbytes\u001b[0m\u001b[0;34m(\u001b[0m\u001b[0mpacket\u001b[0m\u001b[0;34m)\u001b[0m\u001b[0;34m\u001b[0m\u001b[0;34m\u001b[0m\u001b[0m\n\u001b[1;32m    921\u001b[0m         \u001b[0;32mtry\u001b[0m\u001b[0;34m:\u001b[0m\u001b[0;34m\u001b[0m\u001b[0;34m\u001b[0m\u001b[0m\n\u001b[0;32m--> 922\u001b[0;31m             \u001b[0mresult\u001b[0m \u001b[0;34m=\u001b[0m \u001b[0mself\u001b[0m\u001b[0;34m.\u001b[0m\u001b[0m_handle_result\u001b[0m\u001b[0;34m(\u001b[0m\u001b[0mself\u001b[0m\u001b[0;34m.\u001b[0m\u001b[0m_send_cmd\u001b[0m\u001b[0;34m(\u001b[0m\u001b[0mServerCmd\u001b[0m\u001b[0;34m.\u001b[0m\u001b[0mQUERY\u001b[0m\u001b[0;34m,\u001b[0m \u001b[0mquery\u001b[0m\u001b[0;34m)\u001b[0m\u001b[0;34m)\u001b[0m\u001b[0;34m\u001b[0m\u001b[0;34m\u001b[0m\u001b[0m\n\u001b[0m\u001b[1;32m    923\u001b[0m         \u001b[0;32mexcept\u001b[0m \u001b[0merrors\u001b[0m\u001b[0;34m.\u001b[0m\u001b[0mProgrammingError\u001b[0m \u001b[0;32mas\u001b[0m \u001b[0merr\u001b[0m\u001b[0;34m:\u001b[0m\u001b[0;34m\u001b[0m\u001b[0;34m\u001b[0m\u001b[0m\n\u001b[1;32m    924\u001b[0m             \u001b[0;32mif\u001b[0m \u001b[0merr\u001b[0m\u001b[0;34m.\u001b[0m\u001b[0merrno\u001b[0m \u001b[0;34m==\u001b[0m \u001b[0;36m3948\u001b[0m \u001b[0;32mand\u001b[0m\u001b[0;31m \u001b[0m\u001b[0;31m\\\u001b[0m\u001b[0;34m\u001b[0m\u001b[0;34m\u001b[0m\u001b[0m\n",
      "\u001b[0;32m/home/ubh01/.local/lib/python3.6/site-packages/mysql/connector/connection.py\u001b[0m in \u001b[0;36m_handle_result\u001b[0;34m(self, packet)\u001b[0m\n\u001b[1;32m    730\u001b[0m             \u001b[0;32mreturn\u001b[0m \u001b[0mself\u001b[0m\u001b[0;34m.\u001b[0m\u001b[0m_handle_eof\u001b[0m\u001b[0;34m(\u001b[0m\u001b[0mpacket\u001b[0m\u001b[0;34m)\u001b[0m\u001b[0;34m\u001b[0m\u001b[0;34m\u001b[0m\u001b[0m\n\u001b[1;32m    731\u001b[0m         \u001b[0;32melif\u001b[0m \u001b[0mpacket\u001b[0m\u001b[0;34m[\u001b[0m\u001b[0;36m4\u001b[0m\u001b[0;34m]\u001b[0m \u001b[0;34m==\u001b[0m \u001b[0;36m255\u001b[0m\u001b[0;34m:\u001b[0m\u001b[0;34m\u001b[0m\u001b[0;34m\u001b[0m\u001b[0m\n\u001b[0;32m--> 732\u001b[0;31m             \u001b[0;32mraise\u001b[0m \u001b[0merrors\u001b[0m\u001b[0;34m.\u001b[0m\u001b[0mget_exception\u001b[0m\u001b[0;34m(\u001b[0m\u001b[0mpacket\u001b[0m\u001b[0;34m)\u001b[0m\u001b[0;34m\u001b[0m\u001b[0;34m\u001b[0m\u001b[0m\n\u001b[0m\u001b[1;32m    733\u001b[0m \u001b[0;34m\u001b[0m\u001b[0m\n\u001b[1;32m    734\u001b[0m         \u001b[0;31m# We have a text result set\u001b[0m\u001b[0;34m\u001b[0m\u001b[0;34m\u001b[0m\u001b[0;34m\u001b[0m\u001b[0m\n",
      "\u001b[0;31mProgrammingError\u001b[0m: 1046 (3D000): No database selected"
     ]
    }
   ],
   "source": [
    "# Create new table patient_details\n",
    "mycursor.execute(\"\"\"CREATE TABLE patient_details(patient_id int NOT NULL PRIMARY KEY,patient_name VARCHAR(20),patient_gender VARCHAR(6),patient_birth_date DATE,patient_phone VARCHAR(15),disease_name VARCHAR(30),city VARCHAR(30),hospital_id VARCHAR(5),FOREIGN KEY(hospital_id) REFERENCES hospital_details(hospital_id))\"\"\")"
   ]
  },
  {
   "cell_type": "code",
   "execution_count": 11,
   "metadata": {},
   "outputs": [
    {
     "name": "stderr",
     "output_type": "stream",
     "text": [
      "ERROR:root:An unexpected error occurred while tokenizing input\n",
      "The following traceback may be corrupted or invalid\n",
      "The error message is: ('EOF in multi-line string', (1, 71))\n",
      "\n"
     ]
    },
    {
     "ename": "ProgrammingError",
     "evalue": "1046 (3D000): No database selected",
     "output_type": "error",
     "traceback": [
      "\u001b[0;31m---------------------------------------------------------------------------\u001b[0m",
      "\u001b[0;31mProgrammingError\u001b[0m                          Traceback (most recent call last)",
      "\u001b[0;32m<ipython-input-11-98a23d6ab72a>\u001b[0m in \u001b[0;36m<module>\u001b[0;34m()\u001b[0m\n\u001b[1;32m      1\u001b[0m \u001b[0;31m# create new table hospital_details\u001b[0m\u001b[0;34m\u001b[0m\u001b[0;34m\u001b[0m\u001b[0;34m\u001b[0m\u001b[0m\n\u001b[1;32m      2\u001b[0m mycursor.execute(\"\"\"CREATE TABLE hospital_details (hospital_id VARCHAR(5) NOT NULL PRIMARY KEY ,hospital_name VARCHAR(50),\n\u001b[0;32m----> 3\u001b[0;31m                  city VARCHAR(20),state VARCHAR(20),country VARCHAR(6))\"\"\")\n\u001b[0m",
      "\u001b[0;32m/home/ubh01/.local/lib/python3.6/site-packages/mysql/connector/cursor.py\u001b[0m in \u001b[0;36mexecute\u001b[0;34m(self, operation, params, multi)\u001b[0m\n\u001b[1;32m    570\u001b[0m \u001b[0;34m\u001b[0m\u001b[0m\n\u001b[1;32m    571\u001b[0m         \u001b[0;32mtry\u001b[0m\u001b[0;34m:\u001b[0m\u001b[0;34m\u001b[0m\u001b[0;34m\u001b[0m\u001b[0m\n\u001b[0;32m--> 572\u001b[0;31m             \u001b[0mself\u001b[0m\u001b[0;34m.\u001b[0m\u001b[0m_handle_result\u001b[0m\u001b[0;34m(\u001b[0m\u001b[0mself\u001b[0m\u001b[0;34m.\u001b[0m\u001b[0m_connection\u001b[0m\u001b[0;34m.\u001b[0m\u001b[0mcmd_query\u001b[0m\u001b[0;34m(\u001b[0m\u001b[0mstmt\u001b[0m\u001b[0;34m)\u001b[0m\u001b[0;34m)\u001b[0m\u001b[0;34m\u001b[0m\u001b[0;34m\u001b[0m\u001b[0m\n\u001b[0m\u001b[1;32m    573\u001b[0m         \u001b[0;32mexcept\u001b[0m \u001b[0merrors\u001b[0m\u001b[0;34m.\u001b[0m\u001b[0mInterfaceError\u001b[0m\u001b[0;34m:\u001b[0m\u001b[0;34m\u001b[0m\u001b[0;34m\u001b[0m\u001b[0m\n\u001b[1;32m    574\u001b[0m             \u001b[0;32mif\u001b[0m \u001b[0mself\u001b[0m\u001b[0;34m.\u001b[0m\u001b[0m_connection\u001b[0m\u001b[0;34m.\u001b[0m\u001b[0m_have_next_result\u001b[0m\u001b[0;34m:\u001b[0m  \u001b[0;31m# pylint: disable=W0212\u001b[0m\u001b[0;34m\u001b[0m\u001b[0;34m\u001b[0m\u001b[0m\n",
      "\u001b[0;32m/home/ubh01/.local/lib/python3.6/site-packages/mysql/connector/connection.py\u001b[0m in \u001b[0;36mcmd_query\u001b[0;34m(self, query, raw, buffered, raw_as_string)\u001b[0m\n\u001b[1;32m    920\u001b[0m         \u001b[0mquery\u001b[0m \u001b[0;34m=\u001b[0m \u001b[0mbytes\u001b[0m\u001b[0;34m(\u001b[0m\u001b[0mpacket\u001b[0m\u001b[0;34m)\u001b[0m\u001b[0;34m\u001b[0m\u001b[0;34m\u001b[0m\u001b[0m\n\u001b[1;32m    921\u001b[0m         \u001b[0;32mtry\u001b[0m\u001b[0;34m:\u001b[0m\u001b[0;34m\u001b[0m\u001b[0;34m\u001b[0m\u001b[0m\n\u001b[0;32m--> 922\u001b[0;31m             \u001b[0mresult\u001b[0m \u001b[0;34m=\u001b[0m \u001b[0mself\u001b[0m\u001b[0;34m.\u001b[0m\u001b[0m_handle_result\u001b[0m\u001b[0;34m(\u001b[0m\u001b[0mself\u001b[0m\u001b[0;34m.\u001b[0m\u001b[0m_send_cmd\u001b[0m\u001b[0;34m(\u001b[0m\u001b[0mServerCmd\u001b[0m\u001b[0;34m.\u001b[0m\u001b[0mQUERY\u001b[0m\u001b[0;34m,\u001b[0m \u001b[0mquery\u001b[0m\u001b[0;34m)\u001b[0m\u001b[0;34m)\u001b[0m\u001b[0;34m\u001b[0m\u001b[0;34m\u001b[0m\u001b[0m\n\u001b[0m\u001b[1;32m    923\u001b[0m         \u001b[0;32mexcept\u001b[0m \u001b[0merrors\u001b[0m\u001b[0;34m.\u001b[0m\u001b[0mProgrammingError\u001b[0m \u001b[0;32mas\u001b[0m \u001b[0merr\u001b[0m\u001b[0;34m:\u001b[0m\u001b[0;34m\u001b[0m\u001b[0;34m\u001b[0m\u001b[0m\n\u001b[1;32m    924\u001b[0m             \u001b[0;32mif\u001b[0m \u001b[0merr\u001b[0m\u001b[0;34m.\u001b[0m\u001b[0merrno\u001b[0m \u001b[0;34m==\u001b[0m \u001b[0;36m3948\u001b[0m \u001b[0;32mand\u001b[0m\u001b[0;31m \u001b[0m\u001b[0;31m\\\u001b[0m\u001b[0;34m\u001b[0m\u001b[0;34m\u001b[0m\u001b[0m\n",
      "\u001b[0;32m/home/ubh01/.local/lib/python3.6/site-packages/mysql/connector/connection.py\u001b[0m in \u001b[0;36m_handle_result\u001b[0;34m(self, packet)\u001b[0m\n\u001b[1;32m    730\u001b[0m             \u001b[0;32mreturn\u001b[0m \u001b[0mself\u001b[0m\u001b[0;34m.\u001b[0m\u001b[0m_handle_eof\u001b[0m\u001b[0;34m(\u001b[0m\u001b[0mpacket\u001b[0m\u001b[0;34m)\u001b[0m\u001b[0;34m\u001b[0m\u001b[0;34m\u001b[0m\u001b[0m\n\u001b[1;32m    731\u001b[0m         \u001b[0;32melif\u001b[0m \u001b[0mpacket\u001b[0m\u001b[0;34m[\u001b[0m\u001b[0;36m4\u001b[0m\u001b[0;34m]\u001b[0m \u001b[0;34m==\u001b[0m \u001b[0;36m255\u001b[0m\u001b[0;34m:\u001b[0m\u001b[0;34m\u001b[0m\u001b[0;34m\u001b[0m\u001b[0m\n\u001b[0;32m--> 732\u001b[0;31m             \u001b[0;32mraise\u001b[0m \u001b[0merrors\u001b[0m\u001b[0;34m.\u001b[0m\u001b[0mget_exception\u001b[0m\u001b[0;34m(\u001b[0m\u001b[0mpacket\u001b[0m\u001b[0;34m)\u001b[0m\u001b[0;34m\u001b[0m\u001b[0;34m\u001b[0m\u001b[0m\n\u001b[0m\u001b[1;32m    733\u001b[0m \u001b[0;34m\u001b[0m\u001b[0m\n\u001b[1;32m    734\u001b[0m         \u001b[0;31m# We have a text result set\u001b[0m\u001b[0;34m\u001b[0m\u001b[0;34m\u001b[0m\u001b[0;34m\u001b[0m\u001b[0m\n",
      "\u001b[0;31mProgrammingError\u001b[0m: 1046 (3D000): No database selected"
     ]
    }
   ],
   "source": [
    "# create new table hospital_details\n",
    "mycursor.execute(\"\"\"CREATE TABLE hospital_details (hospital_id VARCHAR(5) NOT NULL PRIMARY KEY ,hospital_name VARCHAR(50),\n",
    "                 city VARCHAR(20),state VARCHAR(20),country VARCHAR(6))\"\"\")\n"
   ]
  },
  {
   "cell_type": "code",
   "execution_count": 20,
   "metadata": {},
   "outputs": [
    {
     "name": "stdout",
     "output_type": "stream",
     "text": [
      "('India', 72000, 482018, 'GRP101', 'Life Insurance Corporation of India', 'Govt.', 'Mumbai')\n",
      "('India', 45000, 482049, 'GRP102', 'HDFC Standard Life Insurance Co. Ltd.', 'Private', 'Mumbai')\n",
      "('India', 64000, 482030, 'GRP103', 'Max Life Insurance Co. Ltd.', 'Private', 'Delhi')\n",
      "('India', 59000, 482028, 'GRP104', 'ICICI Prudential Life Insurance Co. Ltd.', 'Private', 'Mumbai')\n",
      "('India', 37000, 482014, 'GRP105', 'Kotak Mahindra Life Insurance Co. Ltd.', 'Private', 'Mumbai')\n",
      "('India', 89000, 482011, 'GRP106', 'Aditya Birla Sun Life Insurance Co. Ltd.', 'Private', 'Mumbai')\n",
      "('India', 70000, 482006, 'GRP107', 'TATA AIG Life Insurance Co. Ltd.', 'Private', 'Mumbai')\n",
      "('India', 52000, 482034, 'GRP108', 'SBI Life Insurance Co. Ltd.', 'Private', 'Mumbai')\n",
      "('India', 78000, 482032, 'GRP109', 'Exide Life Insurance Co. Ltd.', 'Private', 'Bangalore')\n",
      "('India', 48000, 482015, 'GRP110', 'Bajaj Allianz Life Insurance Co. Ltd.', 'Private', 'Pune')\n",
      "('India', 57000, 482011, 'GRP111', 'PNB MetLife India Insurance Co. Ltd.', 'Private', 'Mumbai')\n",
      "('India', 57000, 482022, 'GRP112', 'Reliance Nippon Life Insurance Company', 'Private', 'Mumbai')\n",
      "('India', 64000, 482009, 'GRP113', 'Aviva Life Insurance Company India Ltd.', 'Private', 'Gurugram')\n",
      "('India', 33000, 482043, 'GRP114', 'Sahara India Life Insurance Co. Ltd.', 'Private', 'Lucknow')\n",
      "('India', 79000, 482036, 'GRP115', 'Shriram Life Insurance Co. Ltd.', 'Private', 'Hyderabad')\n",
      "('India', 32000, 482002, 'GRP116', 'Bharti AXA Life Insurance Co. Ltd.', 'Private', 'Mumbai')\n",
      "('India', 59000, 482017, 'GRP117', 'Future Generali India Life Insurance Co. Ltd.', 'Private', 'Mumbai')\n",
      "('India', 97000, 482023, 'GRP118', 'IDBI Federal Life Insurance Co. Ltd.', 'Private', 'Mumbai')\n",
      "('India', 47000, 482046, 'GRP119', 'Canara HSBC Oriental Bank of Commerce Life Insurance Co. Ltd.', 'Private', 'Gurugram')\n",
      "('India', 50000, 482017, 'GRP120', 'Aegon Life Insurance Co. Ltd.', 'Private', 'Mumbai')\n",
      "('India', 78000, 482039, 'GRP121', 'Pramerica Life Insurance Co. Ltd.', 'Private', 'Mumbai')\n",
      "('India', 79000, 482027, 'GRP122', 'Star Union Dai-Ichi Life Insurance Co. Ltd.', 'Private', 'Mumbai')\n",
      "('India', 99000, 482040, 'GRP123', 'IndiaFirst Life Insurance Co. Ltd.', 'Private', 'Mumbai')\n",
      "('India', 81000, 482033, 'GRP124', 'Edelweiss Tokio Life Insurance Co. Ltd.', 'Private', 'Mumbai')\n",
      "('India', 60000, 482006, 'GRP125', 'Acko General Insurance', 'Private', 'Mumbai')\n",
      "('India', 42000, 482035, 'GRP126', 'Aditya Birla Health Insurance', 'Private', 'Mumbai')\n",
      "('India', 60000, 482020, 'GRP127', 'Agriculture Insurance Company of India', 'Govt.', 'New Delhi')\n",
      "('India', 50000, 482039, 'GRP128', 'Apollo Munich Health Insurance', 'Private', 'Gurgaon')\n",
      "('India', 88000, 482003, 'GRP129', 'Bajaj Allianz General Insurance', 'Private', 'Pune')\n",
      "('India', 42000, 482036, 'GRP130', 'Bharti AXA General Insurance', 'Private', 'Mumbai')\n",
      "('India', 99000, 482005, 'GRP131', 'Cholamandalam MS General Insurance', 'Private', 'Chennai')\n",
      "('India', 57000, 482048, 'GRP132', 'Cigna TTK', 'Private', 'Mumbai')\n",
      "('India', 93000, 482046, 'GRP133', 'DHFL General Insurance', 'Private', 'Mumbai')\n",
      "('India', 90000, 482019, 'GRP134', 'Digit Insurance', 'Private', 'Pune')\n",
      "('India', 39000, 482024, 'GRP135', 'Edelweiss General Insurance', 'Private', 'Mumbai')\n",
      "('India', 34000, 482005, 'GRP136', 'Export Credit Guarantee Corporation of India', 'Govt.', 'Mumbai')\n",
      "('India', 47000, 482015, 'GRP137', 'Future Generali India Insurance', 'Private', 'Mumbai')\n",
      "('India', 32000, 482029, 'GRP138', 'HDFC ERGO General Insurance Company', 'Private', 'Mumbai')\n",
      "('India', 71000, 482009, 'GRP139', 'ICICI Lombard', 'Private', 'Mumbai')\n",
      "('India', 54000, 482022, 'GRP140', 'IFFCO TOKIO General Insurance', 'Private', 'Gurugram')\n",
      "('India', 71000, 482049, 'GRP141', 'Kotak Mahindra General Insurance', 'Private', 'Mumbai')\n",
      "('India', 60000, 482012, 'GRP142', 'Liberty General Insurance', 'Private', 'Mumbai')\n",
      "('India', 90000, 482009, 'GRP143', 'Magma HDI General Insurance', 'Private', 'Mumbai')\n",
      "('India', 44000, 482046, 'GRP144', 'Max Bupa Health Insurance', 'Private', 'New Delhi')\n",
      "('India', 63000, 482043, 'GRP145', 'National Insurance Company', 'Govt.', 'Kolkata')\n",
      "('India', 46000, 482030, 'GRP146', 'New India Assurance', 'Govt.', 'Mumbai')\n",
      "('India', 99000, 482040, 'GRP147', 'Raheja QBE General Insurance', 'Private', 'Mumbai')\n",
      "('India', 67000, 482031, 'GRP148', 'Reliance General Insurance', 'Private', 'Mumbai')\n",
      "('India', 34000, 482049, 'GRP149', 'Reliance Health Insurance', 'Private', 'Mumbai')\n",
      "('India', 84000, 482038, 'GRP150', 'Religare Health Insurance Company Limited', 'Private', 'Gurgaon')\n",
      "('India', 31000, 482044, 'GRP151', 'Royal Sundaram General Insurance', 'Private', 'Chennai')\n",
      "('India', 87000, 482017, 'GRP152', 'SBI General Insurance', 'Private', 'Mumbai')\n",
      "('India', 86000, 482004, 'GRP153', 'Shriram General Insurance', 'Private', 'Jaipur')\n",
      "('India', 95000, 482003, 'GRP154', 'Star Health and Allied Insurance', 'Private', 'Chennai')\n",
      "('India', 41000, 482043, 'GRP155', 'Tata AIG General Insurance', 'Private', 'Mumbai')\n",
      "('India', 67000, 482048, 'GRP156', 'The Oriental Insurance Company', 'Govt.', 'New Delhi')\n",
      "('India', 92000, 482019, 'GRP157', 'United India Insurance Company', 'Govt.', 'Chennai')\n",
      "('India', 47000, 482042, 'GRP158', 'Universal Sompo General Insurance Company', 'Private', 'Mumbai')\n"
     ]
    }
   ],
   "source": [
    "#inserting data into table group \n",
    "'''with open('group.csv','r') as file:\n",
    "    mycursor.execute('''use healthcare''')\n",
    "    data=file.readlines()\n",
    "    for row in data:\n",
    "            list=row.split(\",\")\n",
    "            top=tuple([list[0],int(list[1]),int(list[2]),list[3],list[4],list[5],list[6]])\n",
    "            print(top) \n",
    "            sql = \"INSERT INTO healthcare.groups(country,premium_written,zip_code,grp_id,grp_name,grp_type,city) VALUES(%s,%s,%s,%s,%s,%s,%s)\"\n",
    "            mycursor.execute(sql, top)\n",
    "            mydb.commit()'''"
   ]
  },
  {
   "cell_type": "code",
   "execution_count": 15,
   "metadata": {},
   "outputs": [
    {
     "name": "stdout",
     "output_type": "stream",
     "text": [
      "('H1000', 'All India Institute of Medical Sciences', 'New Delhi', 'Na', 'India\\n')\n",
      "('H1002', 'The Christian Medical College', 'Vellore', 'Tamil Nadu', 'India\\n')\n",
      "('H1003', 'PGIMER - Postgraduate Institute of Medical Education and Research', 'Chandigarh', 'Haryana', 'India\\n')\n",
      "('H1004', 'Apollo Hospital - Chennai', 'Chennai', 'Tamil Nadu', 'India\\n')\n",
      "('H1005', 'P. D. Hinduja National Hospital & Medical Research Centre', 'Mumbai', 'Maharashtra', 'India\\n')\n",
      "('H1006', 'Breach Candy Hospital', 'Mumbai', 'Maharashtra', 'India\\n')\n",
      "('H1007', 'Fortis Flt. Lt. Rajan Dhall Hospital', 'New Delhi', 'Na', 'India\\n')\n",
      "('H1008', 'King Edward Memorial Hospital', 'Mumbai', 'Maharashtra', 'India\\n')\n",
      "('H1009', 'Indraprastha Apollo Hospital', 'Delhi', 'Na', 'India\\n')\n",
      "('H1010', 'Lilavati Hospital And Research Centre', 'Mumbai', 'Maharashtra', 'India\\n')\n",
      "('H1011', 'Sir Ganga Ram Hospital', 'Delhi', 'Na', 'India\\n')\n",
      "('H1012', 'Bombay Hospital & Medical Research Centre', 'Mumbai', 'Maharashtra', 'India\\n')\n",
      "('H1013', 'Apollo Health City - Jubilee Hills', 'Hyderabad', 'Telangana', 'India\\n')\n",
      "('H1014', 'Fortis Hiranandani Hospital', 'Mumbai', 'Maharashtra', 'India\\n')\n",
      "('H1015', 'Fortis Hospital Mulund', 'Mumbai', 'Maharashtra', 'India\\n')\n",
      "('H1016', 'Jaslok Hospital and Research Centre', 'Mumbai', 'Maharashtra', 'India\\n')\n",
      "('H1017', 'Manipal Hospitals', 'Bengaluru', 'Karnataka', 'India\\n')\n",
      "('H1018', 'Yashoda Hospital Secunderabad', 'Hyderabad', 'Telangana', 'India\\n')\n",
      "('H1019', 'Apollo Hospitals - Bannerghatta Road', 'Bengaluru', 'Karnataka', 'India\\n')\n"
     ]
    }
   ],
   "source": [
    "#inserting data into hospital_details\n",
    "'''with open('hospital.csv','r') as file:\n",
    "    mycursor.execute('''use healthcare''')\n",
    "    data=file.readlines()\n",
    "    for row in data:\n",
    "        list=row.split(\",\")\n",
    "        top=tuple(list)\n",
    "        print(top)\n",
    "        sql = \"INSERT INTO hospital_details(hospital_id,hospital_name,city,state,country) VALUES(%s,%s,%s,%s,%s)\"\n",
    "        mycursor.execute(sql,top)\n",
    "        mydb.commit()'''"
   ]
  },
  {
   "cell_type": "code",
   "execution_count": 5,
   "metadata": {},
   "outputs": [
    {
     "name": "stdout",
     "output_type": "stream",
     "text": [
      "('S101', 'Deficiency Diseases', 3000.0)\n"
     ]
    },
    {
     "ename": "IntegrityError",
     "evalue": "1062 (23000): Duplicate entry 'S101' for key 'PRIMARY'",
     "output_type": "error",
     "traceback": [
      "\u001b[0;31m---------------------------------------------------------------------------\u001b[0m",
      "\u001b[0;31mIntegrityError\u001b[0m                            Traceback (most recent call last)",
      "\u001b[0;32m<ipython-input-5-3879eebc5b16>\u001b[0m in \u001b[0;36m<module>\u001b[0;34m()\u001b[0m\n\u001b[1;32m      8\u001b[0m             \u001b[0mprint\u001b[0m\u001b[0;34m(\u001b[0m\u001b[0mtop\u001b[0m\u001b[0;34m)\u001b[0m\u001b[0;34m\u001b[0m\u001b[0;34m\u001b[0m\u001b[0m\n\u001b[1;32m      9\u001b[0m             \u001b[0msql\u001b[0m \u001b[0;34m=\u001b[0m \u001b[0;34m\"INSERT INTO healthcare.subgroup(subgrp_id,subgrp_name,monthly_premium) VALUES(%s,%s,%s)\"\u001b[0m\u001b[0;34m\u001b[0m\u001b[0;34m\u001b[0m\u001b[0m\n\u001b[0;32m---> 10\u001b[0;31m             \u001b[0mmycursor\u001b[0m\u001b[0;34m.\u001b[0m\u001b[0mexecute\u001b[0m\u001b[0;34m(\u001b[0m\u001b[0msql\u001b[0m\u001b[0;34m,\u001b[0m \u001b[0mtop\u001b[0m\u001b[0;34m)\u001b[0m\u001b[0;34m\u001b[0m\u001b[0;34m\u001b[0m\u001b[0m\n\u001b[0m\u001b[1;32m     11\u001b[0m             \u001b[0mmydb\u001b[0m\u001b[0;34m.\u001b[0m\u001b[0mcommit\u001b[0m\u001b[0;34m(\u001b[0m\u001b[0;34m)\u001b[0m\u001b[0;34m\u001b[0m\u001b[0;34m\u001b[0m\u001b[0m\n",
      "\u001b[0;32m/home/ubh01/.local/lib/python3.6/site-packages/mysql/connector/cursor.py\u001b[0m in \u001b[0;36mexecute\u001b[0;34m(self, operation, params, multi)\u001b[0m\n\u001b[1;32m    570\u001b[0m \u001b[0;34m\u001b[0m\u001b[0m\n\u001b[1;32m    571\u001b[0m         \u001b[0;32mtry\u001b[0m\u001b[0;34m:\u001b[0m\u001b[0;34m\u001b[0m\u001b[0;34m\u001b[0m\u001b[0m\n\u001b[0;32m--> 572\u001b[0;31m             \u001b[0mself\u001b[0m\u001b[0;34m.\u001b[0m\u001b[0m_handle_result\u001b[0m\u001b[0;34m(\u001b[0m\u001b[0mself\u001b[0m\u001b[0;34m.\u001b[0m\u001b[0m_connection\u001b[0m\u001b[0;34m.\u001b[0m\u001b[0mcmd_query\u001b[0m\u001b[0;34m(\u001b[0m\u001b[0mstmt\u001b[0m\u001b[0;34m)\u001b[0m\u001b[0;34m)\u001b[0m\u001b[0;34m\u001b[0m\u001b[0;34m\u001b[0m\u001b[0m\n\u001b[0m\u001b[1;32m    573\u001b[0m         \u001b[0;32mexcept\u001b[0m \u001b[0merrors\u001b[0m\u001b[0;34m.\u001b[0m\u001b[0mInterfaceError\u001b[0m\u001b[0;34m:\u001b[0m\u001b[0;34m\u001b[0m\u001b[0;34m\u001b[0m\u001b[0m\n\u001b[1;32m    574\u001b[0m             \u001b[0;32mif\u001b[0m \u001b[0mself\u001b[0m\u001b[0;34m.\u001b[0m\u001b[0m_connection\u001b[0m\u001b[0;34m.\u001b[0m\u001b[0m_have_next_result\u001b[0m\u001b[0;34m:\u001b[0m  \u001b[0;31m# pylint: disable=W0212\u001b[0m\u001b[0;34m\u001b[0m\u001b[0;34m\u001b[0m\u001b[0m\n",
      "\u001b[0;32m/home/ubh01/.local/lib/python3.6/site-packages/mysql/connector/connection.py\u001b[0m in \u001b[0;36mcmd_query\u001b[0;34m(self, query, raw, buffered, raw_as_string)\u001b[0m\n\u001b[1;32m    920\u001b[0m         \u001b[0mquery\u001b[0m \u001b[0;34m=\u001b[0m \u001b[0mbytes\u001b[0m\u001b[0;34m(\u001b[0m\u001b[0mpacket\u001b[0m\u001b[0;34m)\u001b[0m\u001b[0;34m\u001b[0m\u001b[0;34m\u001b[0m\u001b[0m\n\u001b[1;32m    921\u001b[0m         \u001b[0;32mtry\u001b[0m\u001b[0;34m:\u001b[0m\u001b[0;34m\u001b[0m\u001b[0;34m\u001b[0m\u001b[0m\n\u001b[0;32m--> 922\u001b[0;31m             \u001b[0mresult\u001b[0m \u001b[0;34m=\u001b[0m \u001b[0mself\u001b[0m\u001b[0;34m.\u001b[0m\u001b[0m_handle_result\u001b[0m\u001b[0;34m(\u001b[0m\u001b[0mself\u001b[0m\u001b[0;34m.\u001b[0m\u001b[0m_send_cmd\u001b[0m\u001b[0;34m(\u001b[0m\u001b[0mServerCmd\u001b[0m\u001b[0;34m.\u001b[0m\u001b[0mQUERY\u001b[0m\u001b[0;34m,\u001b[0m \u001b[0mquery\u001b[0m\u001b[0;34m)\u001b[0m\u001b[0;34m)\u001b[0m\u001b[0;34m\u001b[0m\u001b[0;34m\u001b[0m\u001b[0m\n\u001b[0m\u001b[1;32m    923\u001b[0m         \u001b[0;32mexcept\u001b[0m \u001b[0merrors\u001b[0m\u001b[0;34m.\u001b[0m\u001b[0mProgrammingError\u001b[0m \u001b[0;32mas\u001b[0m \u001b[0merr\u001b[0m\u001b[0;34m:\u001b[0m\u001b[0;34m\u001b[0m\u001b[0;34m\u001b[0m\u001b[0m\n\u001b[1;32m    924\u001b[0m             \u001b[0;32mif\u001b[0m \u001b[0merr\u001b[0m\u001b[0;34m.\u001b[0m\u001b[0merrno\u001b[0m \u001b[0;34m==\u001b[0m \u001b[0;36m3948\u001b[0m \u001b[0;32mand\u001b[0m\u001b[0;31m \u001b[0m\u001b[0;31m\\\u001b[0m\u001b[0;34m\u001b[0m\u001b[0;34m\u001b[0m\u001b[0m\n",
      "\u001b[0;32m/home/ubh01/.local/lib/python3.6/site-packages/mysql/connector/connection.py\u001b[0m in \u001b[0;36m_handle_result\u001b[0;34m(self, packet)\u001b[0m\n\u001b[1;32m    730\u001b[0m             \u001b[0;32mreturn\u001b[0m \u001b[0mself\u001b[0m\u001b[0;34m.\u001b[0m\u001b[0m_handle_eof\u001b[0m\u001b[0;34m(\u001b[0m\u001b[0mpacket\u001b[0m\u001b[0;34m)\u001b[0m\u001b[0;34m\u001b[0m\u001b[0;34m\u001b[0m\u001b[0m\n\u001b[1;32m    731\u001b[0m         \u001b[0;32melif\u001b[0m \u001b[0mpacket\u001b[0m\u001b[0;34m[\u001b[0m\u001b[0;36m4\u001b[0m\u001b[0;34m]\u001b[0m \u001b[0;34m==\u001b[0m \u001b[0;36m255\u001b[0m\u001b[0;34m:\u001b[0m\u001b[0;34m\u001b[0m\u001b[0;34m\u001b[0m\u001b[0m\n\u001b[0;32m--> 732\u001b[0;31m             \u001b[0;32mraise\u001b[0m \u001b[0merrors\u001b[0m\u001b[0;34m.\u001b[0m\u001b[0mget_exception\u001b[0m\u001b[0;34m(\u001b[0m\u001b[0mpacket\u001b[0m\u001b[0;34m)\u001b[0m\u001b[0;34m\u001b[0m\u001b[0;34m\u001b[0m\u001b[0m\n\u001b[0m\u001b[1;32m    733\u001b[0m \u001b[0;34m\u001b[0m\u001b[0m\n\u001b[1;32m    734\u001b[0m         \u001b[0;31m# We have a text result set\u001b[0m\u001b[0;34m\u001b[0m\u001b[0;34m\u001b[0m\u001b[0;34m\u001b[0m\u001b[0m\n",
      "\u001b[0;31mIntegrityError\u001b[0m: 1062 (23000): Duplicate entry 'S101' for key 'PRIMARY'"
     ]
    }
   ],
   "source": [
    "'''#insert data into subgroup\n",
    "with open('subgroup.csv','r') as file:\n",
    "    mycursor.execute('''use healthcare''')\n",
    "    data=file.readlines()\n",
    "    for row in data:\n",
    "            list=row.split(\",\")\n",
    "            top=tuple([list[0],list[1],float(list[2])])\n",
    "            print(top) \n",
    "            sql = \"INSERT INTO healthcare.subgroup(subgrp_id,subgrp_name,monthly_premium) VALUES(%s,%s,%s)\"\n",
    "            mycursor.execute(sql, top)\n",
    "            mydb.commit()'''"
   ]
  },
  {
   "cell_type": "code",
   "execution_count": 7,
   "metadata": {},
   "outputs": [
    {
     "name": "stdout",
     "output_type": "stream",
     "text": [
      "('S101', 110001, 'Beriberi\\n')\n",
      "('S101', 110002, 'Scurvy\\n')\n",
      "('S101', 110003, 'Goitre\\n')\n",
      "('S101', 110004, 'Osteoporosis\\n')\n",
      "('S101', 110005, 'Rickets\\n')\n",
      "('S101', 110006, 'Anaemia\\n')\n",
      "('S102', 110007, 'Fractures\\n')\n",
      "('S102', 110008, 'Heart Attack\\n')\n",
      "('S102', 110009, 'Burns\\n')\n",
      "('S102', 110010, 'Choking\\n')\n",
      "('S102', 110011, 'Stroke\\n')\n",
      "('S102', 110012, 'Food Poisoning\\n')\n",
      "('S103', 110013, 'Asthma\\n')\n",
      "('S103', 110014, 'Glaucoma\\n')\n",
      "('S103', 110015, 'Diabetes\\n')\n",
      "('S103', 110016, 'Amnesia\\n')\n",
      "('S103', 110017, 'Parasomnias\\n')\n",
      "('S103', 110018, 'Neurocognitive disorders\\n')\n",
      "('S104', 110019, 'Vertigo\\n')\n",
      "('S104', 110020, 'Lymphedema\\n')\n",
      "('S104', 110021, 'Concussion\\n')\n",
      "('S104', 110022, 'Arthritis\\n')\n",
      "('S104', 110023, 'Whiplash\\n')\n",
      "('S104', 110024, \"Parkinson's disease\\n\")\n",
      "('S105', 110025, 'Insecy allergy\\n')\n",
      "('S105', 110026, 'Mold allergy\\n')\n",
      "('S105', 110027, 'Pet allergy\\n')\n",
      "('S105', 110028, 'Pollen allergy\\n')\n",
      "('S105', 110029, 'Drug allergy\\n')\n",
      "('S105', 110030, 'Food allergy\\n')\n",
      "('S106', 110031, 'Suicide\\n')\n",
      "('S106', 110032, 'Smoking\\n')\n",
      "('S106', 110033, 'Sunbathing\\n')\n",
      "('S106', 110034, 'Alcohol consumption\\n')\n",
      "('S106', 110035, 'Head banging\\n')\n",
      "('S106', 110036, 'Drug consumption\\n')\n",
      "('S107', 110037, 'Kidney cancer\\n')\n",
      "('S107', 110038, 'Colorectal cancer\\n')\n",
      "('S107', 110039, 'Bladder cancer\\n')\n",
      "('S107', 110040, 'Melanoma\\n')\n",
      "('S107', 110041, 'Lung cancer\\n')\n",
      "('S107', 110042, 'Breast cancer\\n')\n",
      "('S108', 110043, 'Measles\\n')\n",
      "('S108', 110044, 'Dengue\\n')\n",
      "('S108', 110045, 'Smallpox\\n')\n",
      "('S108', 110046, 'Anthrax\\n')\n",
      "('S108', 110047, 'Cholera\\n')\n",
      "('S108', 110048, 'Malaria\\n')\n",
      "('S109', 110049, 'Cystic fibrosis\\n')\n",
      "('S109', 110050, 'Fanconi anaemia\\n')\n",
      "('S109', 110051, 'Phenylketonuria\\n')\n",
      "('S109', 110052, 'Galactosemia\\n')\n",
      "('S109', 110053, 'Rett Syndrome\\n')\n",
      "('S109', 110054, 'Hemophilia\\n')\n",
      "('S110', 110055, 'Hepatitis\\n')\n",
      "('S110', 110056, 'Mumps\\n')\n",
      "('S110', 110057, 'Pneumonia\\n')\n",
      "('S110', 110058, 'Shingles\\n')\n",
      "('S110', 110059, 'Flu\\n')\n",
      "('S110', 110060, 'Chickenpox\\n')\n"
     ]
    }
   ],
   "source": [
    "# insert data into table disease\n",
    "'''with open('disease.csv','r') as file:\n",
    "    mycursor.execute('''use healthcare''')\n",
    "    data=file.readlines()\n",
    "    for row in data:\n",
    "            list=row.split(\",\")\n",
    "            top=tuple([list[0],int(list[1]),list[2]])\n",
    "            print(top) \n",
    "            sql = \"INSERT INTO healthcare.disease(subgrp_id,disease_id,disease_name) VALUES(%s,%s,%s)\"\n",
    "            mycursor.execute(sql, top)\n",
    "            mydb.commit()'''"
   ]
  },
  {
   "cell_type": "code",
   "execution_count": 15,
   "metadata": {},
   "outputs": [
    {
     "name": "stdout",
     "output_type": "stream",
     "text": [
      "(187158, 'Harbir', 'Female', datetime.date(1960, 2, 24), '+91 0112009318', 'Galactosemia', 'Rourkela', 'H1001\\n')\n"
     ]
    },
    {
     "ename": "IntegrityError",
     "evalue": "1062 (23000): Duplicate entry '187158' for key 'PRIMARY'",
     "output_type": "error",
     "traceback": [
      "\u001b[0;31m---------------------------------------------------------------------------\u001b[0m",
      "\u001b[0;31mIntegrityError\u001b[0m                            Traceback (most recent call last)",
      "\u001b[0;32m<ipython-input-15-0e2b03113ef4>\u001b[0m in \u001b[0;36m<module>\u001b[0;34m()\u001b[0m\n\u001b[1;32m     11\u001b[0m             \u001b[0mprint\u001b[0m\u001b[0;34m(\u001b[0m\u001b[0mtop\u001b[0m\u001b[0;34m)\u001b[0m\u001b[0;34m\u001b[0m\u001b[0;34m\u001b[0m\u001b[0m\n\u001b[1;32m     12\u001b[0m             \u001b[0msql\u001b[0m \u001b[0;34m=\u001b[0m \u001b[0;34m\"INSERT INTO healthcare.patient_details(Patient_id,Patient_name,patient_gender,patient_birth_date,patient_phone,disease_name,city,hospital_id) VALUES(%s,%s,%s,%s,%s,%s,%s,%s)\"\u001b[0m\u001b[0;34m\u001b[0m\u001b[0;34m\u001b[0m\u001b[0m\n\u001b[0;32m---> 13\u001b[0;31m             \u001b[0mmycursor\u001b[0m\u001b[0;34m.\u001b[0m\u001b[0mexecute\u001b[0m\u001b[0;34m(\u001b[0m\u001b[0msql\u001b[0m\u001b[0;34m,\u001b[0m \u001b[0mtop\u001b[0m\u001b[0;34m)\u001b[0m\u001b[0;34m\u001b[0m\u001b[0;34m\u001b[0m\u001b[0m\n\u001b[0m\u001b[1;32m     14\u001b[0m             \u001b[0mmydb\u001b[0m\u001b[0;34m.\u001b[0m\u001b[0mcommit\u001b[0m\u001b[0;34m(\u001b[0m\u001b[0;34m)\u001b[0m\u001b[0;34m\u001b[0m\u001b[0;34m\u001b[0m\u001b[0m\n",
      "\u001b[0;32m/home/ubh01/.local/lib/python3.6/site-packages/mysql/connector/cursor.py\u001b[0m in \u001b[0;36mexecute\u001b[0;34m(self, operation, params, multi)\u001b[0m\n\u001b[1;32m    570\u001b[0m \u001b[0;34m\u001b[0m\u001b[0m\n\u001b[1;32m    571\u001b[0m         \u001b[0;32mtry\u001b[0m\u001b[0;34m:\u001b[0m\u001b[0;34m\u001b[0m\u001b[0;34m\u001b[0m\u001b[0m\n\u001b[0;32m--> 572\u001b[0;31m             \u001b[0mself\u001b[0m\u001b[0;34m.\u001b[0m\u001b[0m_handle_result\u001b[0m\u001b[0;34m(\u001b[0m\u001b[0mself\u001b[0m\u001b[0;34m.\u001b[0m\u001b[0m_connection\u001b[0m\u001b[0;34m.\u001b[0m\u001b[0mcmd_query\u001b[0m\u001b[0;34m(\u001b[0m\u001b[0mstmt\u001b[0m\u001b[0;34m)\u001b[0m\u001b[0;34m)\u001b[0m\u001b[0;34m\u001b[0m\u001b[0;34m\u001b[0m\u001b[0m\n\u001b[0m\u001b[1;32m    573\u001b[0m         \u001b[0;32mexcept\u001b[0m \u001b[0merrors\u001b[0m\u001b[0;34m.\u001b[0m\u001b[0mInterfaceError\u001b[0m\u001b[0;34m:\u001b[0m\u001b[0;34m\u001b[0m\u001b[0;34m\u001b[0m\u001b[0m\n\u001b[1;32m    574\u001b[0m             \u001b[0;32mif\u001b[0m \u001b[0mself\u001b[0m\u001b[0;34m.\u001b[0m\u001b[0m_connection\u001b[0m\u001b[0;34m.\u001b[0m\u001b[0m_have_next_result\u001b[0m\u001b[0;34m:\u001b[0m  \u001b[0;31m# pylint: disable=W0212\u001b[0m\u001b[0;34m\u001b[0m\u001b[0;34m\u001b[0m\u001b[0m\n",
      "\u001b[0;32m/home/ubh01/.local/lib/python3.6/site-packages/mysql/connector/connection.py\u001b[0m in \u001b[0;36mcmd_query\u001b[0;34m(self, query, raw, buffered, raw_as_string)\u001b[0m\n\u001b[1;32m    920\u001b[0m         \u001b[0mquery\u001b[0m \u001b[0;34m=\u001b[0m \u001b[0mbytes\u001b[0m\u001b[0;34m(\u001b[0m\u001b[0mpacket\u001b[0m\u001b[0;34m)\u001b[0m\u001b[0;34m\u001b[0m\u001b[0;34m\u001b[0m\u001b[0m\n\u001b[1;32m    921\u001b[0m         \u001b[0;32mtry\u001b[0m\u001b[0;34m:\u001b[0m\u001b[0;34m\u001b[0m\u001b[0;34m\u001b[0m\u001b[0m\n\u001b[0;32m--> 922\u001b[0;31m             \u001b[0mresult\u001b[0m \u001b[0;34m=\u001b[0m \u001b[0mself\u001b[0m\u001b[0;34m.\u001b[0m\u001b[0m_handle_result\u001b[0m\u001b[0;34m(\u001b[0m\u001b[0mself\u001b[0m\u001b[0;34m.\u001b[0m\u001b[0m_send_cmd\u001b[0m\u001b[0;34m(\u001b[0m\u001b[0mServerCmd\u001b[0m\u001b[0;34m.\u001b[0m\u001b[0mQUERY\u001b[0m\u001b[0;34m,\u001b[0m \u001b[0mquery\u001b[0m\u001b[0;34m)\u001b[0m\u001b[0;34m)\u001b[0m\u001b[0;34m\u001b[0m\u001b[0;34m\u001b[0m\u001b[0m\n\u001b[0m\u001b[1;32m    923\u001b[0m         \u001b[0;32mexcept\u001b[0m \u001b[0merrors\u001b[0m\u001b[0;34m.\u001b[0m\u001b[0mProgrammingError\u001b[0m \u001b[0;32mas\u001b[0m \u001b[0merr\u001b[0m\u001b[0;34m:\u001b[0m\u001b[0;34m\u001b[0m\u001b[0;34m\u001b[0m\u001b[0m\n\u001b[1;32m    924\u001b[0m             \u001b[0;32mif\u001b[0m \u001b[0merr\u001b[0m\u001b[0;34m.\u001b[0m\u001b[0merrno\u001b[0m \u001b[0;34m==\u001b[0m \u001b[0;36m3948\u001b[0m \u001b[0;32mand\u001b[0m\u001b[0;31m \u001b[0m\u001b[0;31m\\\u001b[0m\u001b[0;34m\u001b[0m\u001b[0;34m\u001b[0m\u001b[0m\n",
      "\u001b[0;32m/home/ubh01/.local/lib/python3.6/site-packages/mysql/connector/connection.py\u001b[0m in \u001b[0;36m_handle_result\u001b[0;34m(self, packet)\u001b[0m\n\u001b[1;32m    730\u001b[0m             \u001b[0;32mreturn\u001b[0m \u001b[0mself\u001b[0m\u001b[0;34m.\u001b[0m\u001b[0m_handle_eof\u001b[0m\u001b[0;34m(\u001b[0m\u001b[0mpacket\u001b[0m\u001b[0;34m)\u001b[0m\u001b[0;34m\u001b[0m\u001b[0;34m\u001b[0m\u001b[0m\n\u001b[1;32m    731\u001b[0m         \u001b[0;32melif\u001b[0m \u001b[0mpacket\u001b[0m\u001b[0;34m[\u001b[0m\u001b[0;36m4\u001b[0m\u001b[0;34m]\u001b[0m \u001b[0;34m==\u001b[0m \u001b[0;36m255\u001b[0m\u001b[0;34m:\u001b[0m\u001b[0;34m\u001b[0m\u001b[0;34m\u001b[0m\u001b[0m\n\u001b[0;32m--> 732\u001b[0;31m             \u001b[0;32mraise\u001b[0m \u001b[0merrors\u001b[0m\u001b[0;34m.\u001b[0m\u001b[0mget_exception\u001b[0m\u001b[0;34m(\u001b[0m\u001b[0mpacket\u001b[0m\u001b[0;34m)\u001b[0m\u001b[0;34m\u001b[0m\u001b[0;34m\u001b[0m\u001b[0m\n\u001b[0m\u001b[1;32m    733\u001b[0m \u001b[0;34m\u001b[0m\u001b[0m\n\u001b[1;32m    734\u001b[0m         \u001b[0;31m# We have a text result set\u001b[0m\u001b[0;34m\u001b[0m\u001b[0;34m\u001b[0m\u001b[0;34m\u001b[0m\u001b[0m\n",
      "\u001b[0;31mIntegrityError\u001b[0m: 1062 (23000): Duplicate entry '187158' for key 'PRIMARY'"
     ]
    }
   ],
   "source": [
    "#insert data into patient_details table\n",
    "'''from datetime import datetime\n",
    "with open('process_patient.csv','r') as file:\n",
    "    mycursor.execute('''use healthcare''')\n",
    "    data=file.readlines()\n",
    "    for row in data:\n",
    "            list=row.split(\",\")\n",
    "            pdob=list[3]\n",
    "            pdob=datetime.strptime(pdob,'%Y-%m-%d').date()\n",
    "            top=tuple([int(list[0]),list[1],list[2],pdob,list[4],list[5],list[6],list[7]])\n",
    "            print(top) \n",
    "            sql = \"INSERT INTO healthcare.patient_details(Patient_id,Patient_name,patient_gender,patient_birth_date,patient_phone,disease_name,city,hospital_id) VALUES(%s,%s,%s,%s,%s,%s,%s,%s)\"\n",
    "            mycursor.execute(sql, top)\n",
    "            mydb.commit()'''"
   ]
  },
  {
   "cell_type": "code",
   "execution_count": 15,
   "metadata": {},
   "outputs": [
    {
     "name": "stdout",
     "output_type": "stream",
     "text": [
      "    claim_id  patient_id    disease_name      SUB_ID Claim_Or_Rejected  \\\n",
      "0          0      187158    Galactosemia  SUBID10000                 N   \n",
      "1          1      112766  Bladder cancer  SUBID10001                 N   \n",
      "2          2      199252   Kidney cancer  SUBID10002                 N   \n",
      "3          3      133424         Suicide  SUBID10003                 N   \n",
      "4          4      172579    Food allergy  SUBID10004                 Y   \n",
      "..       ...         ...             ...         ...               ...   \n",
      "65        65      191132        Glaucoma  SUBID10065                 Y   \n",
      "66        66      105686       Hepatitis  SUBID10066                 N   \n",
      "67        67      160140   Rett Syndrome  SUBID10067                 N   \n",
      "68        68      114252        Diabetes  SUBID10068                 N   \n",
      "69        69      188365     Pet allergy  SUBID10069                 N   \n",
      "\n",
      "          claim_type  claim_amount  claim_date  \n",
      "0    claims of value         79874  1949-03-14  \n",
      "1   claims of policy        151142  1970-03-16  \n",
      "2    claims of value         59924  2008-02-03  \n",
      "3     claims of fact        143120  1995-02-08  \n",
      "4    claims of value        168634  1967-05-23  \n",
      "..               ...           ...         ...  \n",
      "65  claims of policy         81980  1969-05-31  \n",
      "66    claims of fact         13667  1957-09-12  \n",
      "67   claims of value        109433  1944-12-25  \n",
      "68  claims of policy        152901  1948-02-13  \n",
      "69    claims of fact         99313  1994-08-25  \n",
      "\n",
      "[70 rows x 8 columns]\n",
      "(187158, 'Galactosemia', 'SUBID10000', 'N', 'claims of value', 79874.0, datetime.date(1949, 3, 14))\n",
      "(112766, 'Bladder cancer', 'SUBID10001', 'N', 'claims of policy', 151142.0, datetime.date(1970, 3, 16))\n",
      "(199252, 'Kidney cancer', 'SUBID10002', 'N', 'claims of value', 59924.0, datetime.date(2008, 2, 3))\n",
      "(133424, 'Suicide', 'SUBID10003', 'N', 'claims of fact', 143120.0, datetime.date(1995, 2, 8))\n",
      "(172579, 'Food allergy', 'SUBID10004', 'Y', 'claims of value', 168634.0, datetime.date(1967, 5, 23))\n",
      "(171320, 'Whiplash', 'SUBID10005', 'N', 'claims of policy', 64840.0, datetime.date(1991, 10, 4))\n",
      "(107794, 'Sunbathing', 'SUBID1006', 'N', 'claims of fact', 26800.0, datetime.date(1991, 3, 26))\n",
      "(130339, 'Drug consumption', 'SUBID10007', 'N', 'claims of value', 177186.0, datetime.date(1946, 9, 5))\n",
      "(110377, 'Dengue', 'SUBID10008', 'N', 'claims of fact', 141123.0, datetime.date(1966, 6, 20))\n",
      "(149367, 'Head banging', 'SUBID10009', 'N', 'claims of value', 88540.0, datetime.date(1945, 12, 29))\n",
      "(156168, 'Fanconi anaemia', 'SUBID10010', 'N', 'claims of value', 29150.0, datetime.date(1999, 1, 25))\n"
     ]
    },
    {
     "ename": "IntegrityError",
     "evalue": "1452 (23000): Cannot add or update a child row: a foreign key constraint fails (`healthcare`.`claims`, CONSTRAINT `claims_ibfk_1` FOREIGN KEY (`sub_id`) REFERENCES `subscriber` (`sub_id`))",
     "output_type": "error",
     "traceback": [
      "\u001b[0;31m---------------------------------------------------------------------------\u001b[0m",
      "\u001b[0;31mIntegrityError\u001b[0m                            Traceback (most recent call last)",
      "\u001b[0;32m<ipython-input-15-3b583fe77e11>\u001b[0m in \u001b[0;36m<module>\u001b[0;34m()\u001b[0m\n\u001b[1;32m     17\u001b[0m     \u001b[0mprint\u001b[0m\u001b[0;34m(\u001b[0m\u001b[0mval\u001b[0m\u001b[0;34m)\u001b[0m\u001b[0;34m\u001b[0m\u001b[0;34m\u001b[0m\u001b[0m\n\u001b[1;32m     18\u001b[0m     \u001b[0msql\u001b[0m\u001b[0;34m=\u001b[0m\u001b[0;34m\"INSERT INTO claims(patient_id,disease_name,sub_id,claim_Or_rejected,claim_type,claim_amount,claim_date) VALUES(%s,%s,%s,%s,%s,%s,%s)\"\u001b[0m\u001b[0;34m\u001b[0m\u001b[0;34m\u001b[0m\u001b[0m\n\u001b[0;32m---> 19\u001b[0;31m     \u001b[0mmycursor\u001b[0m\u001b[0;34m.\u001b[0m\u001b[0mexecute\u001b[0m\u001b[0;34m(\u001b[0m\u001b[0msql\u001b[0m\u001b[0;34m,\u001b[0m\u001b[0mval\u001b[0m\u001b[0;34m)\u001b[0m\u001b[0;34m\u001b[0m\u001b[0;34m\u001b[0m\u001b[0m\n\u001b[0m\u001b[1;32m     20\u001b[0m     \u001b[0mmydb\u001b[0m\u001b[0;34m.\u001b[0m\u001b[0mcommit\u001b[0m\u001b[0;34m(\u001b[0m\u001b[0;34m)\u001b[0m\u001b[0;34m\u001b[0m\u001b[0;34m\u001b[0m\u001b[0m\n",
      "\u001b[0;32m/home/ubh01/.local/lib/python3.6/site-packages/mysql/connector/cursor.py\u001b[0m in \u001b[0;36mexecute\u001b[0;34m(self, operation, params, multi)\u001b[0m\n\u001b[1;32m    570\u001b[0m \u001b[0;34m\u001b[0m\u001b[0m\n\u001b[1;32m    571\u001b[0m         \u001b[0;32mtry\u001b[0m\u001b[0;34m:\u001b[0m\u001b[0;34m\u001b[0m\u001b[0;34m\u001b[0m\u001b[0m\n\u001b[0;32m--> 572\u001b[0;31m             \u001b[0mself\u001b[0m\u001b[0;34m.\u001b[0m\u001b[0m_handle_result\u001b[0m\u001b[0;34m(\u001b[0m\u001b[0mself\u001b[0m\u001b[0;34m.\u001b[0m\u001b[0m_connection\u001b[0m\u001b[0;34m.\u001b[0m\u001b[0mcmd_query\u001b[0m\u001b[0;34m(\u001b[0m\u001b[0mstmt\u001b[0m\u001b[0;34m)\u001b[0m\u001b[0;34m)\u001b[0m\u001b[0;34m\u001b[0m\u001b[0;34m\u001b[0m\u001b[0m\n\u001b[0m\u001b[1;32m    573\u001b[0m         \u001b[0;32mexcept\u001b[0m \u001b[0merrors\u001b[0m\u001b[0;34m.\u001b[0m\u001b[0mInterfaceError\u001b[0m\u001b[0;34m:\u001b[0m\u001b[0;34m\u001b[0m\u001b[0;34m\u001b[0m\u001b[0m\n\u001b[1;32m    574\u001b[0m             \u001b[0;32mif\u001b[0m \u001b[0mself\u001b[0m\u001b[0;34m.\u001b[0m\u001b[0m_connection\u001b[0m\u001b[0;34m.\u001b[0m\u001b[0m_have_next_result\u001b[0m\u001b[0;34m:\u001b[0m  \u001b[0;31m# pylint: disable=W0212\u001b[0m\u001b[0;34m\u001b[0m\u001b[0;34m\u001b[0m\u001b[0m\n",
      "\u001b[0;32m/home/ubh01/.local/lib/python3.6/site-packages/mysql/connector/connection.py\u001b[0m in \u001b[0;36mcmd_query\u001b[0;34m(self, query, raw, buffered, raw_as_string)\u001b[0m\n\u001b[1;32m    920\u001b[0m         \u001b[0mquery\u001b[0m \u001b[0;34m=\u001b[0m \u001b[0mbytes\u001b[0m\u001b[0;34m(\u001b[0m\u001b[0mpacket\u001b[0m\u001b[0;34m)\u001b[0m\u001b[0;34m\u001b[0m\u001b[0;34m\u001b[0m\u001b[0m\n\u001b[1;32m    921\u001b[0m         \u001b[0;32mtry\u001b[0m\u001b[0;34m:\u001b[0m\u001b[0;34m\u001b[0m\u001b[0;34m\u001b[0m\u001b[0m\n\u001b[0;32m--> 922\u001b[0;31m             \u001b[0mresult\u001b[0m \u001b[0;34m=\u001b[0m \u001b[0mself\u001b[0m\u001b[0;34m.\u001b[0m\u001b[0m_handle_result\u001b[0m\u001b[0;34m(\u001b[0m\u001b[0mself\u001b[0m\u001b[0;34m.\u001b[0m\u001b[0m_send_cmd\u001b[0m\u001b[0;34m(\u001b[0m\u001b[0mServerCmd\u001b[0m\u001b[0;34m.\u001b[0m\u001b[0mQUERY\u001b[0m\u001b[0;34m,\u001b[0m \u001b[0mquery\u001b[0m\u001b[0;34m)\u001b[0m\u001b[0;34m)\u001b[0m\u001b[0;34m\u001b[0m\u001b[0;34m\u001b[0m\u001b[0m\n\u001b[0m\u001b[1;32m    923\u001b[0m         \u001b[0;32mexcept\u001b[0m \u001b[0merrors\u001b[0m\u001b[0;34m.\u001b[0m\u001b[0mProgrammingError\u001b[0m \u001b[0;32mas\u001b[0m \u001b[0merr\u001b[0m\u001b[0;34m:\u001b[0m\u001b[0;34m\u001b[0m\u001b[0;34m\u001b[0m\u001b[0m\n\u001b[1;32m    924\u001b[0m             \u001b[0;32mif\u001b[0m \u001b[0merr\u001b[0m\u001b[0;34m.\u001b[0m\u001b[0merrno\u001b[0m \u001b[0;34m==\u001b[0m \u001b[0;36m3948\u001b[0m \u001b[0;32mand\u001b[0m\u001b[0;31m \u001b[0m\u001b[0;31m\\\u001b[0m\u001b[0;34m\u001b[0m\u001b[0;34m\u001b[0m\u001b[0m\n",
      "\u001b[0;32m/home/ubh01/.local/lib/python3.6/site-packages/mysql/connector/connection.py\u001b[0m in \u001b[0;36m_handle_result\u001b[0;34m(self, packet)\u001b[0m\n\u001b[1;32m    730\u001b[0m             \u001b[0;32mreturn\u001b[0m \u001b[0mself\u001b[0m\u001b[0;34m.\u001b[0m\u001b[0m_handle_eof\u001b[0m\u001b[0;34m(\u001b[0m\u001b[0mpacket\u001b[0m\u001b[0;34m)\u001b[0m\u001b[0;34m\u001b[0m\u001b[0;34m\u001b[0m\u001b[0m\n\u001b[1;32m    731\u001b[0m         \u001b[0;32melif\u001b[0m \u001b[0mpacket\u001b[0m\u001b[0;34m[\u001b[0m\u001b[0;36m4\u001b[0m\u001b[0;34m]\u001b[0m \u001b[0;34m==\u001b[0m \u001b[0;36m255\u001b[0m\u001b[0;34m:\u001b[0m\u001b[0;34m\u001b[0m\u001b[0;34m\u001b[0m\u001b[0m\n\u001b[0;32m--> 732\u001b[0;31m             \u001b[0;32mraise\u001b[0m \u001b[0merrors\u001b[0m\u001b[0;34m.\u001b[0m\u001b[0mget_exception\u001b[0m\u001b[0;34m(\u001b[0m\u001b[0mpacket\u001b[0m\u001b[0;34m)\u001b[0m\u001b[0;34m\u001b[0m\u001b[0;34m\u001b[0m\u001b[0m\n\u001b[0m\u001b[1;32m    733\u001b[0m \u001b[0;34m\u001b[0m\u001b[0m\n\u001b[1;32m    734\u001b[0m         \u001b[0;31m# We have a text result set\u001b[0m\u001b[0;34m\u001b[0m\u001b[0;34m\u001b[0m\u001b[0;34m\u001b[0m\u001b[0m\n",
      "\u001b[0;31mIntegrityError\u001b[0m: 1452 (23000): Cannot add or update a child row: a foreign key constraint fails (`healthcare`.`claims`, CONSTRAINT `claims_ibfk_1` FOREIGN KEY (`sub_id`) REFERENCES `subscriber` (`sub_id`))"
     ]
    }
   ],
   "source": [
    "#insert data into claims \n",
    "import pandas as pd \n",
    "from datetime import datetime\n",
    "data = pd.read_json('process_claims.json')\n",
    "print(data)\n",
    "for index,row in data.iterrows():\n",
    "    #a=int(row[0])\n",
    "    b=int(row[1])\n",
    "    c=row[2]\n",
    "    d=row[3]\n",
    "    e=row[4]\n",
    "    f=row[5]\n",
    "    g=float(row[6])\n",
    "    h=row[7]\n",
    "    h=datetime.strptime(h,'%Y-%m-%d').date()\n",
    "    val=tuple([b,c,d,e,f,g,h])\n",
    "    print(val)\n",
    "    sql=\"INSERT INTO claims(patient_id,disease_name,sub_id,claim_Or_rejected,claim_type,claim_amount,claim_date) VALUES(%s,%s,%s,%s,%s,%s,%s)\"\n",
    "    mycursor.execute(sql,val)\n",
    "    mydb.commit()"
   ]
  },
  {
   "cell_type": "code",
   "execution_count": 41,
   "metadata": {},
   "outputs": [
    {
     "name": "stdout",
     "output_type": "stream",
     "text": [
      "['0', 'SUBID10000', 'Harbir', 'Vishwakarma', 'Baria Marg', '1924-06-30', 'Female', '+91 0112009318', 'India', 'Rourkela', '767058', 'S107', 'Y', '1944-06-30', '1954-01-14\\n']\n",
      "('SUBID10000', 'Harbir', 'Vishwakarma', 'Baria Marg', datetime.date(1924, 6, 30), 'Female', '+91 0112009318', 'India', 'Rourkela', 767058, 'S107', 'Y', datetime.date(1944, 6, 30), datetime.date(1954, 1, 14))\n",
      "['1', 'SUBID10001', 'Brahmdev', 'Sonkar', 'Lala Marg', '1948-12-20', 'Female', '+91 1727749552', 'India', 'Tiruvottiyur', '34639', 'S105', 'Y', '1968-12-20', '1970-05-16\\n']\n",
      "('SUBID10001', 'Brahmdev', 'Sonkar', 'Lala Marg', datetime.date(1948, 12, 20), 'Female', '+91 1727749552', 'India', 'Tiruvottiyur', 34639, 'S105', 'Y', datetime.date(1968, 12, 20), datetime.date(1970, 5, 16))\n",
      "['2', 'SUBID10002', 'Ujjawal', 'Devi', 'Mammen Zila', '1980-04-16', 'Male', '+91 8547451606', 'India', 'Berhampur', '914455', 'S106', 'N', '2000-04-16', '2008-05-04\\n']\n",
      "('SUBID10002', 'Ujjawal', 'Devi', 'Mammen Zila', datetime.date(1980, 4, 16), 'Male', '+91 8547451606', 'India', 'Berhampur', 914455, 'S106', 'N', datetime.date(2000, 4, 16), datetime.date(2008, 5, 4))\n",
      "['3', 'SUBID10003', 'Ballari', 'Mishra', 'Sahni Zila', '1969-09-25', 'Female', '+91 0106026841', 'India', 'Bihar Sharif', '91481', 'S104', 'N', '1989-09-25', '1995-06-05\\n']\n",
      "('SUBID10003', 'Ballari', 'Mishra', 'Sahni Zila', datetime.date(1969, 9, 25), 'Female', '+91 0106026841', 'India', 'Bihar Sharif', 91481, 'S104', 'N', datetime.date(1989, 9, 25), datetime.date(1995, 6, 5))\n",
      "['4', 'SUBID10004', 'Devnath', 'Srivastav', 'Magar Zila', '1946-05-01', 'Female', '+91 1868774631', 'India', 'Bidhannagar', '531742', 'S110', 'N', '1966-05-01', '1970-12-09\\n']\n",
      "('SUBID10004', 'Devnath', 'Srivastav', 'Magar Zila', datetime.date(1946, 5, 1), 'Female', '+91 1868774631', 'India', 'Bidhannagar', 531742, 'S110', 'N', datetime.date(1966, 5, 1), datetime.date(1970, 12, 9))\n",
      "['5', 'SUBID10005', 'Atasi', 'Seth', 'Khatri Nagar', '1967-10-02', 'Male', '+91 9747336855', 'India', 'Amravati', '229062', 'S104', 'Y', '1987-10-02', '1995-02-13\\n']\n",
      "('SUBID10005', 'Atasi', 'Seth', 'Khatri Nagar', datetime.date(1967, 10, 2), 'Male', '+91 9747336855', 'India', 'Amravati', 229062, 'S104', 'Y', datetime.date(1987, 10, 2), datetime.date(1995, 2, 13))\n",
      "['6', 'SUBID1006', 'Manish', 'Maurya', 'Swaminathan Chowk', '1967-06-06', 'Male', '+91 4354294043', 'India', 'Panvel', '438733', 'S109', 'NA', '1987-06-06', '1995-03-21\\n']\n",
      "('SUBID1006', 'Manish', 'Maurya', 'Swaminathan Chowk', datetime.date(1967, 6, 6), 'Male', '+91 4354294043', 'India', 'Panvel', 438733, 'S109', 'NA', datetime.date(1987, 6, 6), datetime.date(1995, 3, 21))\n",
      "['7', 'SUBID10007', 'Aakar', 'Yadav', 'Swamy', '1925-03-05', 'Female', '+91 2777633911', 'India', 'Bihar Sharif', '535907', 'S104', 'N', '1945-03-05', '1946-11-07\\n']\n",
      "('SUBID10007', 'Aakar', 'Yadav', 'Swamy', datetime.date(1925, 3, 5), 'Female', '+91 2777633911', 'India', 'Bihar Sharif', 535907, 'S104', 'N', datetime.date(1945, 3, 5), datetime.date(1946, 11, 7))\n",
      "['8', 'SUBID10008', 'Gurudas', 'Gupta', 'Sarin Nagar', '1945-05-06', 'Male', '+91 1232859381', 'India', 'Kamarhati', '933226', 'S103', 'Y', '1965-05-06', '1970-09-16\\n']\n",
      "('SUBID10008', 'Gurudas', 'Gupta', 'Sarin Nagar', datetime.date(1945, 5, 6), 'Male', '+91 1232859381', 'India', 'Kamarhati', 933226, 'S103', 'Y', datetime.date(1965, 5, 6), datetime.date(1970, 9, 16))\n",
      "['9', 'SUBID10009', 'NA', 'Gupta', 'Thakur Circle', '1925-06-12', 'Male', '+91 1780763280', 'India', 'Bangalore', '957469', 'S105', 'Y', '1945-06-12', '1953-08-30\\n']\n",
      "('SUBID10009', 'NA', 'Gupta', 'Thakur Circle', datetime.date(1925, 6, 12), 'Male', '+91 1780763280', 'India', 'Bangalore', 957469, 'S105', 'Y', datetime.date(1945, 6, 12), datetime.date(1953, 8, 30))\n",
      "['10', 'SUBID1010', 'NA', 'Divedi', 'Dhillon', '1976-02-03', 'Male', '+91 5586075345', 'India', 'Rajkot', '911319', 'S102', 'Y', '1996-02-03', '2002-01-27\\n']\n",
      "('SUBID1010', 'NA', 'Divedi', 'Dhillon', datetime.date(1976, 2, 3), 'Male', '+91 5586075345', 'India', 'Rajkot', 911319, 'S102', 'Y', datetime.date(1996, 2, 3), datetime.date(2002, 1, 27))\n",
      "['11', 'SUBID10011', 'NA', 'Vishwakarma', 'Rajagopalan', '1955-01-22', 'Female', '+91 4146391938', 'India', 'Ghaziabad', '337042', 'S106', 'N', '1975-01-22', '1978-11-02\\n']\n",
      "('SUBID10011', 'NA', 'Vishwakarma', 'Rajagopalan', datetime.date(1955, 1, 22), 'Female', '+91 4146391938', 'India', 'Ghaziabad', 337042, 'S106', 'N', datetime.date(1975, 1, 22), datetime.date(1978, 11, 2))\n",
      "['12', 'SUBID10012', 'Dharmadaas', 'Tiwari', 'Rama', '1964-04-29', 'Male', '+91 6345482027', 'India', 'Bhalswa Jahangir Pur', '430793', 'S103', 'N', '1984-04-29', '1988-02-07\\n']\n",
      "('SUBID10012', 'Dharmadaas', 'Tiwari', 'Rama', datetime.date(1964, 4, 29), 'Male', '+91 6345482027', 'India', 'Bhalswa Jahangir Pur', 430793, 'S103', 'N', datetime.date(1984, 4, 29), datetime.date(1988, 2, 7))\n",
      "['13', 'SUBID10013', 'Brahmvir', 'Rai', 'Shah Path', '1991-11-11', 'Male', '+91 7316972612', 'India', 'Ambala', '249898', 'S106', 'N', '2011-11-11', '2020-05-23\\n']\n",
      "('SUBID10013', 'Brahmvir', 'Rai', 'Shah Path', datetime.date(1991, 11, 11), 'Male', '+91 7316972612', 'India', 'Ambala', 249898, 'S106', 'N', datetime.date(2011, 11, 11), datetime.date(2020, 5, 23))\n",
      "['14', 'SUBID10014', 'NA', 'Srivastav', 'Chandra Path', '1981-01-25', 'Female', '+91 2960004518', 'India', 'Surendranagar Dudhrej', '111966', 'S102', 'N', '2001-01-25', '2005-07-13\\n']\n",
      "('SUBID10014', 'NA', 'Srivastav', 'Chandra Path', datetime.date(1981, 1, 25), 'Female', '+91 2960004518', 'India', 'Surendranagar Dudhrej', 111966, 'S102', 'N', datetime.date(2001, 1, 25), datetime.date(2005, 7, 13))\n",
      "['15', 'SUBID10015', 'Bhagvan', 'Srivastav', 'Edwin', '1966-07-24', 'Female', '+91 0297693485', 'India', 'Bhimavaram', '436513', 'S105', 'Y', '1986-07-24', '1988-02-04\\n']\n",
      "('SUBID10015', 'Bhagvan', 'Srivastav', 'Edwin', datetime.date(1966, 7, 24), 'Female', '+91 0297693485', 'India', 'Bhimavaram', 436513, 'S105', 'Y', datetime.date(1986, 7, 24), datetime.date(1988, 2, 4))\n",
      "['16', 'SUBID10016', 'Amritkala', 'Srivastav', 'Guha Path', '1933-11-20', 'Female', '+91 0537157280', 'India', 'Meerut', '863467', 'S106', 'Y', '1953-11-20', '1955-07-29\\n']\n",
      "('SUBID10016', 'Amritkala', 'Srivastav', 'Guha Path', datetime.date(1933, 11, 20), 'Female', '+91 0537157280', 'India', 'Meerut', 863467, 'S106', 'Y', datetime.date(1953, 11, 20), datetime.date(1955, 7, 29))\n",
      "['17', 'SUBID10017', 'Bandhu', 'Seth', 'Varughese', '1996-10-15', 'Male', '+91 0695289163', 'India', 'Chinsurah', '136713', 'S108', 'N', '2016-10-15', '2018-06-08\\n']\n",
      "('SUBID10017', 'Bandhu', 'Seth', 'Varughese', datetime.date(1996, 10, 15), 'Male', '+91 0695289163', 'India', 'Chinsurah', 136713, 'S108', 'N', datetime.date(2016, 10, 15), datetime.date(2018, 6, 8))\n",
      "['18', 'SUBID10018', 'Bhagavaana', 'Kumar', 'Kulkarni Zila', '1935-09-16', 'Female', '+91 6071745855', 'India', 'Shahjahanpur', '597276', 'S101', 'N', '1955-09-16', '1958-05-31\\n']\n",
      "('SUBID10018', 'Bhagavaana', 'Kumar', 'Kulkarni Zila', datetime.date(1935, 9, 16), 'Female', '+91 6071745855', 'India', 'Shahjahanpur', 597276, 'S101', 'N', datetime.date(1955, 9, 16), datetime.date(1958, 5, 31))\n",
      "['19', 'SUBID10019', 'NA', 'Maurya', 'Sharaf Nagar', '1924-11-09', 'Female', '+91 8906694405', 'India', 'Jabalpur', '958538', 'S104', 'N', '1944-11-09', '1951-10-14\\n']\n",
      "('SUBID10019', 'NA', 'Maurya', 'Sharaf Nagar', datetime.date(1924, 11, 9), 'Female', '+91 8906694405', 'India', 'Jabalpur', 958538, 'S104', 'N', datetime.date(1944, 11, 9), datetime.date(1951, 10, 14))\n",
      "['20', 'SUBID1020', 'Umang', 'Srivastav', 'Balay Chowk', '1963-07-14', 'Female', '+91 9485838770', 'India', 'Haridwar', '181692', 'S109', 'Y', '1983-07-14', '1986-01-15\\n']\n",
      "('SUBID1020', 'Umang', 'Srivastav', 'Balay Chowk', datetime.date(1963, 7, 14), 'Female', '+91 9485838770', 'India', 'Haridwar', 181692, 'S109', 'Y', datetime.date(1983, 7, 14), datetime.date(1986, 1, 15))\n",
      "['21', 'SUBID1021', 'Darsana', 'Yadav', 'Upadhyay Zila', '1932-05-29', 'Male', '+91 7676311811', 'India', 'Dibrugarh', '187414', 'S109', 'Y', '1952-05-29', '1953-10-14\\n']\n",
      "('SUBID1021', 'Darsana', 'Yadav', 'Upadhyay Zila', datetime.date(1932, 5, 29), 'Male', '+91 7676311811', 'India', 'Dibrugarh', 187414, 'S109', 'Y', datetime.date(1952, 5, 29), datetime.date(1953, 10, 14))\n",
      "['22', 'SUBID10022', 'Prakash', 'Rao', 'Sachar', '1923-09-15', 'Female', '+91 9268324471', 'India', 'Kottayam', '180680', 'S104', 'N', '1943-09-15', '1948-10-19\\n']\n",
      "('SUBID10022', 'Prakash', 'Rao', 'Sachar', datetime.date(1923, 9, 15), 'Female', '+91 9268324471', 'India', 'Kottayam', 180680, 'S104', 'N', datetime.date(1943, 9, 15), datetime.date(1948, 10, 19))\n",
      "['23', 'SUBID10023', 'Vaijayanti', 'Pratap', 'Khalsa Nagar', '1920-11-13', 'Male', '+91 9358851649', 'India', 'Mira-Bhayandar', '419190', 'S102', 'Y', '1940-11-13', '1946-03-10\\n']\n",
      "('SUBID10023', 'Vaijayanti', 'Pratap', 'Khalsa Nagar', datetime.date(1920, 11, 13), 'Male', '+91 9358851649', 'India', 'Mira-Bhayandar', 419190, 'S102', 'Y', datetime.date(1940, 11, 13), datetime.date(1946, 3, 10))\n",
      "['24', 'SUBID10024', 'Menakshi', 'Seth', 'Wable Street', '1987-03-06', 'Male', '+91 0531676556', 'India', 'Kamarhati', '882577', 'S107', 'N', '2007-03-06', '2014-02-25\\n']\n",
      "('SUBID10024', 'Menakshi', 'Seth', 'Wable Street', datetime.date(1987, 3, 6), 'Male', '+91 0531676556', 'India', 'Kamarhati', 882577, 'S107', 'N', datetime.date(2007, 3, 6), datetime.date(2014, 2, 25))\n",
      "['25', 'SUBID10025', 'NA', 'Tiwari', 'Sha Chowk', '1955-12-24', 'Male', '+91 2416747182', 'India', 'Karimnagar', '567762', 'S106', 'N', '1975-12-24', '1983-02-03\\n']\n",
      "('SUBID10025', 'NA', 'Tiwari', 'Sha Chowk', datetime.date(1955, 12, 24), 'Male', '+91 2416747182', 'India', 'Karimnagar', 567762, 'S106', 'N', datetime.date(1975, 12, 24), datetime.date(1983, 2, 3))\n",
      "['26', 'SUBID10026', 'Ekant', 'Sonkar', 'Walla Road', '1943-08-13', 'Male', '+91 7686951174', 'India', 'Berhampore', '948589', 'S110', 'Y', '1963-08-13', '1967-05-29\\n']\n",
      "('SUBID10026', 'Ekant', 'Sonkar', 'Walla Road', datetime.date(1943, 8, 13), 'Male', '+91 7686951174', 'India', 'Berhampore', 948589, 'S110', 'Y', datetime.date(1963, 8, 13), datetime.date(1967, 5, 29))\n",
      "['27', 'SUBID10027', 'Chancharik', 'Pandey', 'Karan Ganj', '1983-09-05', 'Male', '+91 5309364825', 'India', 'Chapra', '154667', 'S109', 'N', '2003-09-05', '2011-06-12\\n']\n",
      "('SUBID10027', 'Chancharik', 'Pandey', 'Karan Ganj', datetime.date(1983, 9, 5), 'Male', '+91 5309364825', 'India', 'Chapra', 154667, 'S109', 'N', datetime.date(2003, 9, 5), datetime.date(2011, 6, 12))\n",
      "['28', 'SUBID10028', 'Pushti', 'Pandit', 'Deol Path', '1935-10-15', 'Female', '+91 7093722203', 'India', 'Morbi', '284168', 'S106', 'N', '1955-10-15', '1959-06-04\\n']\n",
      "('SUBID10028', 'Pushti', 'Pandit', 'Deol Path', datetime.date(1935, 10, 15), 'Female', '+91 7093722203', 'India', 'Morbi', 284168, 'S106', 'N', datetime.date(1955, 10, 15), datetime.date(1959, 6, 4))\n",
      "['29', 'SUBID10029', 'Swati', 'Seth', 'Kant Marg', '1987-12-11', 'Female', '+91 1028477510', 'India', 'Amravati', '932221', 'S102', 'N', '2007-12-11', '2011-10-17\\n']\n",
      "('SUBID10029', 'Swati', 'Seth', 'Kant Marg', datetime.date(1987, 12, 11), 'Female', '+91 1028477510', 'India', 'Amravati', 932221, 'S102', 'N', datetime.date(2007, 12, 11), datetime.date(2011, 10, 17))\n"
     ]
    },
    {
     "name": "stdout",
     "output_type": "stream",
     "text": [
      "['30', 'SUBID1030', 'Upasana', 'Pandey', 'Seth Chowk', '1956-06-01', 'Male', '+91 0548234943', 'India', 'Hyderabad', '234823', 'S102', 'N', '1976-06-01', '1981-02-14\\n']\n",
      "('SUBID1030', 'Upasana', 'Pandey', 'Seth Chowk', datetime.date(1956, 6, 1), 'Male', '+91 0548234943', 'India', 'Hyderabad', 234823, 'S102', 'N', datetime.date(1976, 6, 1), datetime.date(1981, 2, 14))\n",
      "['31', 'SUBID10031', 'Kanhaiya', 'Lal', 'Savant Nagar', '1954-10-19', 'Female', '+91 0788738026', 'India', 'Mysore', '638433', 'S104', 'Y', '1974-10-19', '1977-01-03\\n']\n",
      "('SUBID10031', 'Kanhaiya', 'Lal', 'Savant Nagar', datetime.date(1954, 10, 19), 'Female', '+91 0788738026', 'India', 'Mysore', 638433, 'S104', 'Y', datetime.date(1974, 10, 19), datetime.date(1977, 1, 3))\n",
      "['32', 'SUBID1032', 'NA', 'Seth', 'Sandhu Chowk', '1968-07-02', 'Female', '+91 2599794460', 'India', 'Gwalior', '611826', 'S110', 'N', '1988-07-02', '1991-03-14\\n']\n",
      "('SUBID1032', 'NA', 'Seth', 'Sandhu Chowk', datetime.date(1968, 7, 2), 'Female', '+91 2599794460', 'India', 'Gwalior', 611826, 'S110', 'N', datetime.date(1988, 7, 2), datetime.date(1991, 3, 14))\n",
      "['33', 'SUBID10033', 'Gensho', 'Srivastav', 'Korpal Ganj', '1992-06-06', 'Male', '+91 4834040556', 'India', 'Ludhiana', '835018', 'S101', 'N', '2012-06-06', '2022-01-09\\n']\n",
      "('SUBID10033', 'Gensho', 'Srivastav', 'Korpal Ganj', datetime.date(1992, 6, 6), 'Male', '+91 4834040556', 'India', 'Ludhiana', 835018, 'S101', 'N', datetime.date(2012, 6, 6), datetime.date(2022, 1, 9))\n",
      "['34', 'SUBID1034', 'Gopal', 'Das', 'Saini', '1986-05-14', 'Male', '+91 1181471524', 'India', 'Raebareli', '176221', 'S101', 'N', '2006-05-14', '2011-04-08\\n']\n",
      "('SUBID1034', 'Gopal', 'Das', 'Saini', datetime.date(1986, 5, 14), 'Male', '+91 1181471524', 'India', 'Raebareli', 176221, 'S101', 'N', datetime.date(2006, 5, 14), datetime.date(2011, 4, 8))\n",
      "['35', 'SUBID10035', 'Dheeman', 'Tiwari', 'Dube Marg', '1945-05-04', 'Male', '+91 8239321466', 'India', 'Mysore', '811970', 'S101', 'Y', '1965-05-04', '1973-11-13\\n']\n",
      "('SUBID10035', 'Dheeman', 'Tiwari', 'Dube Marg', datetime.date(1945, 5, 4), 'Male', '+91 8239321466', 'India', 'Mysore', 811970, 'S101', 'Y', datetime.date(1965, 5, 4), datetime.date(1973, 11, 13))\n",
      "['36', 'SUBID1036', 'Upasana', 'Thakur', 'Vasa Ganj', '1927-10-03', 'Female', 'NA', 'India', 'Ratlam', '326733', 'S108', 'N', '1947-10-03', '1951-02-20\\n']\n",
      "('SUBID1036', 'Upasana', 'Thakur', 'Vasa Ganj', datetime.date(1927, 10, 3), 'Female', 'NA', 'India', 'Ratlam', 326733, 'S108', 'N', datetime.date(1947, 10, 3), datetime.date(1951, 2, 20))\n",
      "['37', 'SUBID1037', 'NA', 'Rajput', 'Shere Chowk', '1948-11-10', 'Male', '+91 8390195092', 'India', 'Vadodara', '877443', 'S101', 'Y', '1968-11-10', '1973-12-25\\n']\n",
      "('SUBID1037', 'NA', 'Rajput', 'Shere Chowk', datetime.date(1948, 11, 10), 'Male', '+91 8390195092', 'India', 'Vadodara', 877443, 'S101', 'Y', datetime.date(1968, 11, 10), datetime.date(1973, 12, 25))\n",
      "['38', 'SUBID1038', 'NA', 'Thakur', 'Rastogi Street', '1955-04-07', 'Female', '+91 7434031446', 'India', 'Vijayawada', '438940', 'S104', 'NA', '1975-04-07', '1982-01-25\\n']\n",
      "('SUBID1038', 'NA', 'Thakur', 'Rastogi Street', datetime.date(1955, 4, 7), 'Female', '+91 7434031446', 'India', 'Vijayawada', 438940, 'S104', 'NA', datetime.date(1975, 4, 7), datetime.date(1982, 1, 25))\n",
      "['39', 'SUBID10039', 'Madhubala', 'Yadav', 'Sangha Marg', '1937-01-11', 'Male', '+91 8498685882', 'India', 'Jaunpur', '624102', 'S104', 'Y', '1957-01-11', '1965-10-09\\n']\n",
      "('SUBID10039', 'Madhubala', 'Yadav', 'Sangha Marg', datetime.date(1937, 1, 11), 'Male', '+91 8498685882', 'India', 'Jaunpur', 624102, 'S104', 'Y', datetime.date(1957, 1, 11), datetime.date(1965, 10, 9))\n",
      "['40', 'SUBID10040', 'Anjushree', 'Pandey', 'Vora Ganj', '1976-07-04', 'Male', '+91 5322869455', 'India', 'Ghaziabad', '782221', 'S105', 'N', '1996-07-04', '1999-02-17\\n']\n",
      "('SUBID10040', 'Anjushree', 'Pandey', 'Vora Ganj', datetime.date(1976, 7, 4), 'Male', '+91 5322869455', 'India', 'Ghaziabad', 782221, 'S105', 'N', datetime.date(1996, 7, 4), datetime.date(1999, 2, 17))\n",
      "['41', 'SUBID1041', 'NA', 'Rajput', 'Sinha Path', '1930-11-25', 'Female', 'NA', 'India', 'Agartala', '303503', 'S110', 'Y', '1950-11-25', '1957-09-14\\n']\n",
      "('SUBID1041', 'NA', 'Rajput', 'Sinha Path', datetime.date(1930, 11, 25), 'Female', 'NA', 'India', 'Agartala', 303503, 'S110', 'Y', datetime.date(1950, 11, 25), datetime.date(1957, 9, 14))\n",
      "['42', 'SUBID10042', 'Chakrika', 'Sonkar', 'Bansal Circle', '1964-08-05', 'Male', '+91 8185162879', 'India', 'Ranchi', '503290', 'S108', 'Y', '1984-08-05', '1992-09-09\\n']\n",
      "('SUBID10042', 'Chakrika', 'Sonkar', 'Bansal Circle', datetime.date(1964, 8, 5), 'Male', '+91 8185162879', 'India', 'Ranchi', 503290, 'S108', 'Y', datetime.date(1984, 8, 5), datetime.date(1992, 9, 9))\n",
      "['43', 'SUBID1043', 'Saroj', 'Pandit', 'Sathe Zila', '1942-08-26', 'Female', '+91 5690408243', 'India', 'Muzaffarpur', '130486', 'S103', 'Y', '1962-08-26', '1964-08-29\\n']\n",
      "('SUBID1043', 'Saroj', 'Pandit', 'Sathe Zila', datetime.date(1942, 8, 26), 'Female', '+91 5690408243', 'India', 'Muzaffarpur', 130486, 'S103', 'Y', datetime.date(1962, 8, 26), datetime.date(1964, 8, 29))\n",
      "['44', 'SUBID1044', 'Ayushmati', 'Vishwakarma', 'Balakrishnan Street', '1932-09-20', 'Male', '+91 3683223970', 'India', 'Satna', '131247', 'S108', 'N', '1952-09-20', '1961-01-24\\n']\n",
      "('SUBID1044', 'Ayushmati', 'Vishwakarma', 'Balakrishnan Street', datetime.date(1932, 9, 20), 'Male', '+91 3683223970', 'India', 'Satna', 131247, 'S108', 'N', datetime.date(1952, 9, 20), datetime.date(1961, 1, 24))\n",
      "['45', 'SUBID1045', 'Drashti', 'Divedi', 'Wadhwa', '1926-07-03', 'Male', '+91 9447269993', 'India', 'Saharsa', '581568', 'S104', 'Y', '1946-07-03', '1952-11-27\\n']\n",
      "('SUBID1045', 'Drashti', 'Divedi', 'Wadhwa', datetime.date(1926, 7, 3), 'Male', '+91 9447269993', 'India', 'Saharsa', 581568, 'S104', 'Y', datetime.date(1946, 7, 3), datetime.date(1952, 11, 27))\n",
      "['46', 'SUBID10046', 'Aayushmaan', 'Maurya', 'Johal Nagar', '1983-11-14', 'Female', '+91 4464709769', 'India', 'Mehsana', '987281', 'S104', 'Y', '2003-11-14', '2012-10-22\\n']\n",
      "('SUBID10046', 'Aayushmaan', 'Maurya', 'Johal Nagar', datetime.date(1983, 11, 14), 'Female', '+91 4464709769', 'India', 'Mehsana', 987281, 'S104', 'Y', datetime.date(2003, 11, 14), datetime.date(2012, 10, 22))\n",
      "['47', 'SUBID1047', 'NA', 'Rai', 'Sagar Chowk', '1931-02-04', 'Male', '+91 2973105946', 'India', 'Shivpuri', '794170', 'S109', 'Y', '1951-02-04', '1955-07-14\\n']\n",
      "('SUBID1047', 'NA', 'Rai', 'Sagar Chowk', datetime.date(1931, 2, 4), 'Male', '+91 2973105946', 'India', 'Shivpuri', 794170, 'S109', 'Y', datetime.date(1951, 2, 4), datetime.date(1955, 7, 14))\n",
      "['48', 'SUBID10048', 'Chitranjan', 'Mishra', 'Madan Nagar', '1925-09-09', 'Female', '+91 5176024720', 'India', 'Morbi', '945697', 'S108', 'N', '1945-09-09', '1952-06-21\\n']\n",
      "('SUBID10048', 'Chitranjan', 'Mishra', 'Madan Nagar', datetime.date(1925, 9, 9), 'Female', '+91 5176024720', 'India', 'Morbi', 945697, 'S108', 'N', datetime.date(1945, 9, 9), datetime.date(1952, 6, 21))\n",
      "['49', 'SUBID10049', 'Paridhi', 'Yadav', 'Sant Path', '1959-03-27', 'Female', '+91 2139280879', 'India', 'Jabalpur', '883754', 'S107', 'N', '1979-03-27', '1985-06-01\\n']\n",
      "('SUBID10049', 'Paridhi', 'Yadav', 'Sant Path', datetime.date(1959, 3, 27), 'Female', '+91 2139280879', 'India', 'Jabalpur', 883754, 'S107', 'N', datetime.date(1979, 3, 27), datetime.date(1985, 6, 1))\n",
      "['50', 'SUBID10050', 'Deependu', 'Gupta', 'Banik Ganj', '1952-02-13', 'Female', '+91 5674176644', 'India', 'Bareilly', '417855', 'S102', 'Y', '1972-02-13', '1976-08-23\\n']\n",
      "('SUBID10050', 'Deependu', 'Gupta', 'Banik Ganj', datetime.date(1952, 2, 13), 'Female', '+91 5674176644', 'India', 'Bareilly', 417855, 'S102', 'Y', datetime.date(1972, 2, 13), datetime.date(1976, 8, 23))\n",
      "['51', 'SUBID10051', 'NA', 'Rajput', 'Chauhan Chowk', '1946-10-17', 'Male', '+91 9887324437', 'India', 'Baranagar', '765234', 'S103', 'Y', '1966-10-17', '1969-06-26\\n']\n",
      "('SUBID10051', 'NA', 'Rajput', 'Chauhan Chowk', datetime.date(1946, 10, 17), 'Male', '+91 9887324437', 'India', 'Baranagar', 765234, 'S103', 'Y', datetime.date(1966, 10, 17), datetime.date(1969, 6, 26))\n",
      "['52', 'SUBID10052', 'Laksman', 'Rao', 'Sood Marg', '1939-05-26', 'Female', '+91 4504120828', 'India', 'Ahmednagar', '117923', 'S101', 'Y', '1959-05-26', '1960-11-07\\n']\n",
      "('SUBID10052', 'Laksman', 'Rao', 'Sood Marg', datetime.date(1939, 5, 26), 'Female', '+91 4504120828', 'India', 'Ahmednagar', 117923, 'S101', 'Y', datetime.date(1959, 5, 26), datetime.date(1960, 11, 7))\n",
      "['53', 'SUBID10053', 'NA', 'Sonkar', 'Shetty Marg', '1988-06-27', 'Male', '+91 6877897646', 'India', 'Pali', '383290', 'S102', 'Y', '2008-06-27', '2016-10-30\\n']\n",
      "('SUBID10053', 'NA', 'Sonkar', 'Shetty Marg', datetime.date(1988, 6, 27), 'Male', '+91 6877897646', 'India', 'Pali', 383290, 'S102', 'Y', datetime.date(2008, 6, 27), datetime.date(2016, 10, 30))\n",
      "['54', 'SUBID10054', 'Shivakari', 'Pratap', 'Dugar Road', '1944-11-02', 'Female', '+91 3740484063', 'India', 'Hapur', '28202', 'S104', 'N', '1964-11-02', '1967-06-15\\n']\n",
      "('SUBID10054', 'Shivakari', 'Pratap', 'Dugar Road', datetime.date(1944, 11, 2), 'Female', '+91 3740484063', 'India', 'Hapur', 28202, 'S104', 'N', datetime.date(1964, 11, 2), datetime.date(1967, 6, 15))\n"
     ]
    },
    {
     "name": "stdout",
     "output_type": "stream",
     "text": [
      "['55', 'SUBID10055', 'Madhu', 'Thakur', 'Sule Marg', '1984-10-23', 'Male', '+91 8367885507', 'India', 'Udaipur', '565423', 'S107', 'N', '2004-10-23', '2008-07-10\\n']\n",
      "('SUBID10055', 'Madhu', 'Thakur', 'Sule Marg', datetime.date(1984, 10, 23), 'Male', '+91 8367885507', 'India', 'Udaipur', 565423, 'S107', 'N', datetime.date(2004, 10, 23), datetime.date(2008, 7, 10))\n",
      "['56', 'SUBID10056', 'Chanak', 'Gupta', 'Shetty Nagar', '1954-08-27', 'Male', '+91 5093121123', 'India', 'Jalandhar', '602989', 'S105', 'N', '1974-08-27', '1982-06-15\\n']\n",
      "('SUBID10056', 'Chanak', 'Gupta', 'Shetty Nagar', datetime.date(1954, 8, 27), 'Male', '+91 5093121123', 'India', 'Jalandhar', 602989, 'S105', 'N', datetime.date(1974, 8, 27), datetime.date(1982, 6, 15))\n",
      "['57', 'SUBID10057', 'Chittesh', 'Pandey', 'Mangal Chowk', '1949-10-17', 'Male', '+91 1378163498', 'India', 'Thoothukudi', '666415', 'S109', 'Y', '1969-10-17', '1975-10-08\\n']\n",
      "('SUBID10057', 'Chittesh', 'Pandey', 'Mangal Chowk', datetime.date(1949, 10, 17), 'Male', '+91 1378163498', 'India', 'Thoothukudi', 666415, 'S109', 'Y', datetime.date(1969, 10, 17), datetime.date(1975, 10, 8))\n",
      "['58', 'SUBID1058', 'Nawal', 'Rajput', 'Deol Nagar', '1940-01-22', 'Male', '+91 1885105576', 'India', 'Bhopal', '791168', 'S106', 'N', '1960-01-22', '1969-04-18\\n']\n",
      "('SUBID1058', 'Nawal', 'Rajput', 'Deol Nagar', datetime.date(1940, 1, 22), 'Male', '+91 1885105576', 'India', 'Bhopal', 791168, 'S106', 'N', datetime.date(1960, 1, 22), datetime.date(1969, 4, 18))\n",
      "['59', 'SUBID10059', 'Gajabahu', 'Singh', 'Kara', '1959-03-15', 'Male', '+91 1207869436', 'India', 'Udupi', '637221', 'S101', 'Y', '1979-03-15', '1986-07-05\\n']\n",
      "('SUBID10059', 'Gajabahu', 'Singh', 'Kara', datetime.date(1959, 3, 15), 'Male', '+91 1207869436', 'India', 'Udupi', 637221, 'S101', 'Y', datetime.date(1979, 3, 15), datetime.date(1986, 7, 5))\n",
      "['60', 'SUBID10060', 'Jitesh', 'Vishwakarma', 'Gopal Path', '1983-02-03', 'Male', '+91 6515468035', 'India', 'Karimnagar', '124564', 'S110', 'Y', '2003-02-03', '2008-04-30\\n']\n",
      "('SUBID10060', 'Jitesh', 'Vishwakarma', 'Gopal Path', datetime.date(1983, 2, 3), 'Male', '+91 6515468035', 'India', 'Karimnagar', 124564, 'S110', 'Y', datetime.date(2003, 2, 3), datetime.date(2008, 4, 30))\n",
      "['61', 'SUBID10061', 'NA', 'Rajput', 'Anand Path', '1966-09-25', 'Female', '+91 6477918745', 'India', 'Kharagpur', '934938', 'S103', 'NA', '1986-09-25', '1991-06-03\\n']\n",
      "('SUBID10061', 'NA', 'Rajput', 'Anand Path', datetime.date(1966, 9, 25), 'Female', '+91 6477918745', 'India', 'Kharagpur', 934938, 'S103', 'NA', datetime.date(1986, 9, 25), datetime.date(1991, 6, 3))\n",
      "['62', 'SUBID1062', 'Lalit', 'Mishra', 'Comar Street', '1924-02-15', 'Female', '+91 4647833992', 'India', 'Tinsukia', '963770', 'S103', 'N', '1944-02-15', '1947-09-28\\n']\n",
      "('SUBID1062', 'Lalit', 'Mishra', 'Comar Street', datetime.date(1924, 2, 15), 'Female', '+91 4647833992', 'India', 'Tinsukia', 963770, 'S103', 'N', datetime.date(1944, 2, 15), datetime.date(1947, 9, 28))\n",
      "['63', 'SUBID1063', 'Anshuk', 'Srivastav', 'Sridhar Path', '1991-06-17', 'Male', '+91 9764690642', 'India', 'Uluberia', '270985', 'S105', 'N', '2011-06-17', '2014-07-11\\n']\n",
      "('SUBID1063', 'Anshuk', 'Srivastav', 'Sridhar Path', datetime.date(1991, 6, 17), 'Male', '+91 9764690642', 'India', 'Uluberia', 270985, 'S105', 'N', datetime.date(2011, 6, 17), datetime.date(2014, 7, 11))\n",
      "['64', 'SUBID10064', 'NA', 'Pandey', 'Mangat Path', '1994-01-13', 'Male', '+91 8444537013', 'India', 'Panihati', '643791', 'S110', 'N', '2014-01-13', '2019-02-24\\n']\n",
      "('SUBID10064', 'NA', 'Pandey', 'Mangat Path', datetime.date(1994, 1, 13), 'Male', '+91 8444537013', 'India', 'Panihati', 643791, 'S110', 'N', datetime.date(2014, 1, 13), datetime.date(2019, 2, 24))\n",
      "['65', 'SUBID1065', 'Dipesh', 'Mishra', 'Char Path', '1949-04-01', 'Female', '+91 5851958964', 'India', 'Kochi', '31269', 'S103', 'Y', '1969-04-01', '1970-06-02\\n']\n",
      "('SUBID1065', 'Dipesh', 'Mishra', 'Char Path', datetime.date(1949, 4, 1), 'Female', '+91 5851958964', 'India', 'Kochi', 31269, 'S103', 'Y', datetime.date(1969, 4, 1), datetime.date(1970, 6, 2))\n",
      "['66', 'SUBID10066', 'NA', 'Seth', 'Chaudhuri Marg', '1930-09-01', 'Male', '+91 7061843400', 'India', 'Kolhapur', '597470', 'S102', 'N', '1950-09-01', '1957-12-01\\n']\n",
      "('SUBID10066', 'NA', 'Seth', 'Chaudhuri Marg', datetime.date(1930, 9, 1), 'Male', '+91 7061843400', 'India', 'Kolhapur', 597470, 'S102', 'N', datetime.date(1950, 9, 1), datetime.date(1957, 12, 1))\n",
      "['67', 'SUBID1067', 'Kishan', 'Rao', 'Badal Nagar', '1923-05-12', 'Male', '+91 9067652693', 'India', 'Srikakulam', '703899', 'S110', 'Y', '1943-05-12', '1946-09-20\\n']\n",
      "('SUBID1067', 'Kishan', 'Rao', 'Badal Nagar', datetime.date(1923, 5, 12), 'Male', '+91 9067652693', 'India', 'Srikakulam', 703899, 'S110', 'Y', datetime.date(1943, 5, 12), datetime.date(1946, 9, 20))\n",
      "['68', 'SUBID10068', 'NA', 'Mishra', 'Bath Nagar', '1927-02-26', 'Female', '+91 4984346995', 'India', 'Ambarnath', '766224', 'S110', 'N', '1947-02-26', '1948-03-30\\n']\n",
      "('SUBID10068', 'NA', 'Mishra', 'Bath Nagar', datetime.date(1927, 2, 26), 'Female', '+91 4984346995', 'India', 'Ambarnath', 766224, 'S110', 'N', datetime.date(1947, 2, 26), datetime.date(1948, 3, 30))\n",
      "['69', 'SUBID10069', 'Bhageeratha', 'Srivastav', 'Das Ganj', '1973-03-21', 'Male', '+91 0590662722', 'India', 'Sonipat', '695316', 'S103', 'Y', '1993-03-21', '1997-08-01\\n']\n",
      "('SUBID10069', 'Bhageeratha', 'Srivastav', 'Das Ganj', datetime.date(1973, 3, 21), 'Male', '+91 0590662722', 'India', 'Sonipat', 695316, 'S103', 'Y', datetime.date(1993, 3, 21), datetime.date(1997, 8, 1))\n",
      "['70', 'SUBID10070', 'Balaaditya', 'Gupta', 'Varty Road', '1923-11-02', 'Male', '+91 3871269153', 'India', 'Hajipur', '3526', 'S109', 'N', '1943-11-02', '1952-09-24\\n']\n",
      "('SUBID10070', 'Balaaditya', 'Gupta', 'Varty Road', datetime.date(1923, 11, 2), 'Male', '+91 3871269153', 'India', 'Hajipur', 3526, 'S109', 'N', datetime.date(1943, 11, 2), datetime.date(1952, 9, 24))\n",
      "['71', 'SUBID10071', 'NA', 'Rai', 'Choudhury Chowk', '1941-12-26', 'Female', '+91 9287216619', 'India', 'Vellore', '239532', 'S101', 'N', '1961-12-26', '1969-02-23\\n']\n",
      "('SUBID10071', 'NA', 'Rai', 'Choudhury Chowk', datetime.date(1941, 12, 26), 'Female', '+91 9287216619', 'India', 'Vellore', 239532, 'S101', 'N', datetime.date(1961, 12, 26), datetime.date(1969, 2, 23))\n",
      "['72', 'SUBID10072', 'Gopal', 'Srivastav', 'Desai Street', '1936-03-11', 'Female', '+91 3791210190', 'India', 'Bidhannagar', '761800', 'S103', 'Y', '1956-03-11', '1964-07-28\\n']\n",
      "('SUBID10072', 'Gopal', 'Srivastav', 'Desai Street', datetime.date(1936, 3, 11), 'Female', '+91 3791210190', 'India', 'Bidhannagar', 761800, 'S103', 'Y', datetime.date(1956, 3, 11), datetime.date(1964, 7, 28))\n",
      "['73', 'SUBID1073', 'Virender', 'Maurrya', 'Chakrabarti', '1936-10-27', 'Male', '+91 7734026802', 'India', 'Bhusawal', '374302', 'S104', 'N', '1956-10-27', '1961-04-27\\n']\n",
      "('SUBID1073', 'Virender', 'Maurrya', 'Chakrabarti', datetime.date(1936, 10, 27), 'Male', '+91 7734026802', 'India', 'Bhusawal', 374302, 'S104', 'N', datetime.date(1956, 10, 27), datetime.date(1961, 4, 27))\n",
      "['74', 'SUBID10074', 'NA', 'Singh', 'Kalla Path', '1963-11-21', 'Male', '+91 7881749363', 'India', 'Bokaro', '866319', 'S105', 'Y', '1983-11-21', '1985-09-29\\n']\n",
      "('SUBID10074', 'NA', 'Singh', 'Kalla Path', datetime.date(1963, 11, 21), 'Male', '+91 7881749363', 'India', 'Bokaro', 866319, 'S105', 'Y', datetime.date(1983, 11, 21), datetime.date(1985, 9, 29))\n",
      "['75', 'SUBID10075', 'NA', 'Singh', 'Iyengar Nagar', '1956-01-29', 'Male', '+91 6891482136', 'India', 'Navi Mumbai', '836175', 'S107', 'N', '1976-01-29', '1979-05-25\\n']\n",
      "('SUBID10075', 'NA', 'Singh', 'Iyengar Nagar', datetime.date(1956, 1, 29), 'Male', '+91 6891482136', 'India', 'Navi Mumbai', 836175, 'S107', 'N', datetime.date(1976, 1, 29), datetime.date(1979, 5, 25))\n",
      "['76', 'SUBID10076', 'Mamta', 'Tiwari', 'Batra', '1964-12-21', 'Female', '+91 5559521919', 'India', 'Secunderabad', '123181', 'S104', 'N', '1984-12-21', '1987-01-08\\n']\n",
      "('SUBID10076', 'Mamta', 'Tiwari', 'Batra', datetime.date(1964, 12, 21), 'Female', '+91 5559521919', 'India', 'Secunderabad', 123181, 'S104', 'N', datetime.date(1984, 12, 21), datetime.date(1987, 1, 8))\n",
      "['77', 'SUBID10077', 'Girija', 'Maurrya', 'Iyengar Road', '1933-04-25', 'Male', '+91 1811765039', 'India', 'Jaipur', '204379', 'S105', 'N', '1953-04-25', '1963-04-18\\n']\n",
      "('SUBID10077', 'Girija', 'Maurrya', 'Iyengar Road', datetime.date(1933, 4, 25), 'Male', '+91 1811765039', 'India', 'Jaipur', 204379, 'S105', 'N', datetime.date(1953, 4, 25), datetime.date(1963, 4, 18))\n",
      "['78', 'SUBID10078', 'Aaraadhana', 'Rao', 'Raval Nagar', '1980-02-07', 'Male', '+91 2432610572', 'India', 'Jhansi', '429941', 'S108', 'N', '2000-02-07', '2005-02-06\\n']\n",
      "('SUBID10078', 'Aaraadhana', 'Rao', 'Raval Nagar', datetime.date(1980, 2, 7), 'Male', '+91 2432610572', 'India', 'Jhansi', 429941, 'S108', 'N', datetime.date(2000, 2, 7), datetime.date(2005, 2, 6))\n",
      "['79', 'SUBID10079', 'Shahnawaz', 'Mishra', 'Agate Path', '1971-06-24', 'Female', '+91 4117017589', 'India', 'Rampur', '528893', 'S102', 'Y', '1991-06-24', '2000-09-13\\n']\n",
      "('SUBID10079', 'Shahnawaz', 'Mishra', 'Agate Path', datetime.date(1971, 6, 24), 'Female', '+91 4117017589', 'India', 'Rampur', 528893, 'S102', 'Y', datetime.date(1991, 6, 24), datetime.date(2000, 9, 13))\n",
      "['80', 'SUBID10080', 'Tej', 'Sonkar', 'Sarraf Chowk', '1942-06-11', 'Male', '+91 3450311029', 'India', 'Haridwar', '506221', 'S105', 'Y', '1962-06-11', '1964-10-14\\n']\n",
      "('SUBID10080', 'Tej', 'Sonkar', 'Sarraf Chowk', datetime.date(1942, 6, 11), 'Male', '+91 3450311029', 'India', 'Haridwar', 506221, 'S105', 'Y', datetime.date(1962, 6, 11), datetime.date(1964, 10, 14))\n",
      "['81', 'SUBID10081', 'Mansi', 'Divedi', 'Bhattacharyya Road', '1947-03-20', 'Female', '+91 1135113927', 'India', 'Hosur', '995152', 'S105', 'Y', '1967-03-20', '1971-07-25\\n']\n",
      "('SUBID10081', 'Mansi', 'Divedi', 'Bhattacharyya Road', datetime.date(1947, 3, 20), 'Female', '+91 1135113927', 'India', 'Hosur', 995152, 'S105', 'Y', datetime.date(1967, 3, 20), datetime.date(1971, 7, 25))\n",
      "['82', 'SUBID10082', 'Girika', 'Thakur', 'Sinha Zila', '1968-11-03', 'Female', '+91 5601148700', 'India', 'Hospet', '683614', 'S102', 'N', '1988-11-03', '1992-01-21\\n']\n",
      "('SUBID10082', 'Girika', 'Thakur', 'Sinha Zila', datetime.date(1968, 11, 3), 'Female', '+91 5601148700', 'India', 'Hospet', 683614, 'S102', 'N', datetime.date(1988, 11, 3), datetime.date(1992, 1, 21))\n",
      "['83', 'SUBID10083', 'Bhilangana', 'Pandit', 'Ramachandran Path', '1995-01-04', 'Female', '+91 6653069630', 'India', 'Fatehpur', '359466', 'S109', 'Y', '2015-01-04', '2017-10-05\\n']\n",
      "('SUBID10083', 'Bhilangana', 'Pandit', 'Ramachandran Path', datetime.date(1995, 1, 4), 'Female', '+91 6653069630', 'India', 'Fatehpur', 359466, 'S109', 'Y', datetime.date(2015, 1, 4), datetime.date(2017, 10, 5))\n",
      "['84', 'SUBID10084', 'NA', 'Thakur', 'Raval Zila', '1924-06-07', 'Female', '+91 7367059254', 'India', 'Bhavnagar', '464111', 'S107', 'Y', '1944-06-07', '1952-05-22\\n']\n",
      "('SUBID10084', 'NA', 'Thakur', 'Raval Zila', datetime.date(1924, 6, 7), 'Female', '+91 7367059254', 'India', 'Bhavnagar', 464111, 'S107', 'Y', datetime.date(1944, 6, 7), datetime.date(1952, 5, 22))\n",
      "['85', 'SUBID10085', 'Sukanya', 'Sonkar', 'Sangha Street', '1942-01-16', 'Female', '+91 5689645499', 'India', 'Vijayanagaram', '226215', 'S101', 'N', '1962-01-16', '1967-04-10\\n']\n",
      "('SUBID10085', 'Sukanya', 'Sonkar', 'Sangha Street', datetime.date(1942, 1, 16), 'Female', '+91 5689645499', 'India', 'Vijayanagaram', 226215, 'S101', 'N', datetime.date(1962, 1, 16), datetime.date(1967, 4, 10))\n",
      "['86', 'SUBID1086', 'Banita', 'Rao', 'Thakur', '1979-01-28', 'Male', '+91 4743834161', 'India', 'Ghaziabad', '907613', 'S109', 'N', '1999-01-28', '2000-09-05\\n']\n",
      "('SUBID1086', 'Banita', 'Rao', 'Thakur', datetime.date(1979, 1, 28), 'Male', '+91 4743834161', 'India', 'Ghaziabad', 907613, 'S109', 'N', datetime.date(1999, 1, 28), datetime.date(2000, 9, 5))\n",
      "['87', 'SUBID1087', 'NA', 'Pandit', 'Srivastava Path', '1924-12-10', 'Female', '+91 9158965227', 'India', 'Sambhal', '279219', 'S103', 'N', '1944-12-10', '1951-07-16\\n']\n",
      "('SUBID1087', 'NA', 'Pandit', 'Srivastava Path', datetime.date(1924, 12, 10), 'Female', '+91 9158965227', 'India', 'Sambhal', 279219, 'S103', 'N', datetime.date(1944, 12, 10), datetime.date(1951, 7, 16))\n",
      "['88', 'SUBID10088', 'NA', 'Rajput', 'Dua Zila', '1922-07-30', 'Female', '+91 9523946101', 'India', 'Tadipatri', '743449', 'S110', 'N', '1942-07-30', '1949-06-07\\n']\n",
      "('SUBID10088', 'NA', 'Rajput', 'Dua Zila', datetime.date(1922, 7, 30), 'Female', '+91 9523946101', 'India', 'Tadipatri', 743449, 'S110', 'N', datetime.date(1942, 7, 30), datetime.date(1949, 6, 7))\n"
     ]
    },
    {
     "name": "stdout",
     "output_type": "stream",
     "text": [
      "['89', 'SUBID10089', 'Dhuha', 'Tiwari', 'Aggarwal Street', '1952-08-21', 'Male', '+91 3188519840', 'India', 'Rampur', '492137', 'S104', 'NA', '1972-08-21', '1981-05-13\\n']\n",
      "('SUBID10089', 'Dhuha', 'Tiwari', 'Aggarwal Street', datetime.date(1952, 8, 21), 'Male', '+91 3188519840', 'India', 'Rampur', 492137, 'S104', 'NA', datetime.date(1972, 8, 21), datetime.date(1981, 5, 13))\n",
      "['90', 'SUBID10090', 'NA', 'Mishra', 'Chandran Nagar', '1938-06-07', 'Female', '+91 6869721169', 'India', 'Sikar', '564747', 'S101', 'Y', '1958-06-07', '1967-08-23\\n']\n",
      "('SUBID10090', 'NA', 'Mishra', 'Chandran Nagar', datetime.date(1938, 6, 7), 'Female', '+91 6869721169', 'India', 'Sikar', 564747, 'S101', 'Y', datetime.date(1958, 6, 7), datetime.date(1967, 8, 23))\n",
      "['91', 'SUBID1091', 'NA', 'Thakur', 'Bala', '1930-12-31', 'Male', '+91 9664169480', 'India', 'Kamarhati', '682652', 'S110', 'Y', '1950-12-31', '1958-06-21\\n']\n",
      "('SUBID1091', 'NA', 'Thakur', 'Bala', datetime.date(1930, 12, 31), 'Male', '+91 9664169480', 'India', 'Kamarhati', 682652, 'S110', 'Y', datetime.date(1950, 12, 31), datetime.date(1958, 6, 21))\n",
      "['92', 'SUBID10092', 'NA', 'Rai', 'Karan Street', '1940-08-22', 'Others', '+91 7498206646', 'India', 'Ghaziabad', '79586', 'S108', 'N', '1960-08-22', '1966-10-06\\n']\n",
      "('SUBID10092', 'NA', 'Rai', 'Karan Street', datetime.date(1940, 8, 22), 'Others', '+91 7498206646', 'India', 'Ghaziabad', 79586, 'S108', 'N', datetime.date(1960, 8, 22), datetime.date(1966, 10, 6))\n",
      "['93', 'SUBID10093', 'Chandavarman', 'Singh', 'Sarkar Circle', '1997-05-10', 'Others', '+91 6559031791', 'India', 'Navi Mumbai', '83240', 'S110', 'N', '2017-05-10', '2022-08-27\\n']\n",
      "('SUBID10093', 'Chandavarman', 'Singh', 'Sarkar Circle', datetime.date(1997, 5, 10), 'Others', '+91 6559031791', 'India', 'Navi Mumbai', 83240, 'S110', 'N', datetime.date(2017, 5, 10), datetime.date(2022, 8, 27))\n",
      "['94', 'SUBID10094', 'Charanpal', 'Yadav', 'Sehgal Circle', '1986-10-12', 'Male', '+91 2196055115', 'India', 'Gurgaon', '640326', 'S109', 'Y', '2006-10-12', '2016-05-13\\n']\n",
      "('SUBID10094', 'Charanpal', 'Yadav', 'Sehgal Circle', datetime.date(1986, 10, 12), 'Male', '+91 2196055115', 'India', 'Gurgaon', 640326, 'S109', 'Y', datetime.date(2006, 10, 12), datetime.date(2016, 5, 13))\n",
      "['95', 'SUBID10095', 'Ekaaksh', 'Rai', 'Bansal Ganj', '1933-12-02', 'Others', 'NA', 'India', 'Pimpri-Chinchwad', '158186', 'S107', 'N', '1953-12-02', '1960-07-29\\n']\n",
      "('SUBID10095', 'Ekaaksh', 'Rai', 'Bansal Ganj', datetime.date(1933, 12, 2), 'Others', 'NA', 'India', 'Pimpri-Chinchwad', 158186, 'S107', 'N', datetime.date(1953, 12, 2), datetime.date(1960, 7, 29))\n",
      "['96', 'SUBID10096', 'Chanak', 'Sonkar', 'Kaur', '1959-04-07', 'Others', '+91 7284540687', 'India', 'Raurkela Industrial Township', '899590', 'S101', 'Y', '1979-04-07', '1986-03-07\\n']\n",
      "('SUBID10096', 'Chanak', 'Sonkar', 'Kaur', datetime.date(1959, 4, 7), 'Others', '+91 7284540687', 'India', 'Raurkela Industrial Township', 899590, 'S101', 'Y', datetime.date(1979, 4, 7), datetime.date(1986, 3, 7))\n",
      "['97', 'SUBID10097', 'NA', 'Sonkar', 'Rana Ganj', '1940-02-04', 'Others', '+91 8908240160', 'India', 'Mira-Bhayandar', '896586', 'S107', 'Y', '1960-02-04', '1965-01-12\\n']\n",
      "('SUBID10097', 'NA', 'Sonkar', 'Rana Ganj', datetime.date(1940, 2, 4), 'Others', '+91 8908240160', 'India', 'Mira-Bhayandar', 896586, 'S107', 'Y', datetime.date(1960, 2, 4), datetime.date(1965, 1, 12))\n",
      "['98', 'SUBID1098', 'Pushkar', 'Kumar', 'Sodhi Zila', '1934-10-05', 'Others', '+91 8956368286', 'India', 'Korba', '910732', 'S107', 'Y', '1954-10-05', '1961-04-05\\n']\n",
      "('SUBID1098', 'Pushkar', 'Kumar', 'Sodhi Zila', datetime.date(1934, 10, 5), 'Others', '+91 8956368286', 'India', 'Korba', 910732, 'S107', 'Y', datetime.date(1954, 10, 5), datetime.date(1961, 4, 5))\n",
      "['99', 'SUBID10099', 'Shikha', 'Srivastav', 'Ahuja Road', '1970-09-06', 'Others', '+91 3042509956', 'India', 'Nanded', '101500', 'S109', 'Y', '1990-09-06', '1997-11-27\\n']\n",
      "('SUBID10099', 'Shikha', 'Srivastav', 'Ahuja Road', datetime.date(1970, 9, 6), 'Others', '+91 3042509956', 'India', 'Nanded', 101500, 'S109', 'Y', datetime.date(1990, 9, 6), datetime.date(1997, 11, 27))\n"
     ]
    }
   ],
   "source": [
    "#insert into subscriber\n",
    "'''from datetime import datetime\n",
    "with open('process_subscriber.csv','r') as file:\n",
    "    mycursor.execute('''use healthcare''')\n",
    "    data=file.readlines()\n",
    "    for row in data:\n",
    "            list=row.split(\",\")\n",
    "            print(list)\n",
    "            pdob1,pdob2,pdob3=list[5],list[13],list[14].strip()\n",
    "            pdob1=datetime.strptime(pdob1,'%Y-%m-%d').date()\n",
    "            pdob2=datetime.strptime(pdob2,'%Y-%m-%d').date()\n",
    "            pdob3=datetime.strptime(pdob3,'%Y-%m-%d').date()\n",
    "            top=tuple([list[1],list[2],list[3],list[4],pdob1,list[6],list[7],list[8],list[9],int(list[10]),list[11],list[12],pdob2,pdob3])\n",
    "            print(top)\n",
    "            \n",
    "            sql = \"INSERT INTO healthcare.subscriber(sub_id,first_name,last_name,street,birth_date,gender,phone,country,city,zip_code,subgrp_id,elig_ind,eff_date,term_date) VALUES(%s,%s,%s,%s,%s,%s,%s,%s,%s,%s,%s,%s,%s,%s)\"\n",
    "            mycursor.execute(sql, top)\n",
    "            mydb.commit()'''"
   ]
  }
 ],
 "metadata": {
  "kernelspec": {
   "display_name": "Python 3",
   "language": "python",
   "name": "python3"
  },
  "language_info": {
   "codemirror_mode": {
    "name": "ipython",
    "version": 3
   },
   "file_extension": ".py",
   "mimetype": "text/x-python",
   "name": "python",
   "nbconvert_exporter": "python",
   "pygments_lexer": "ipython3",
   "version": "3.6.9"
  }
 },
 "nbformat": 4,
 "nbformat_minor": 2
}
